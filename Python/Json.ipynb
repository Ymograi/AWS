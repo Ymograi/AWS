{
 "cells": [
  {
   "cell_type": "code",
   "execution_count": 59,
   "metadata": {
    "ExecuteTime": {
     "end_time": "2018-12-31T16:47:53.437771Z",
     "start_time": "2018-12-31T16:47:53.110678Z"
    }
   },
   "outputs": [],
   "source": [
    "import json\n",
    "import pandas as pd \n",
    "import requests"
   ]
  },
  {
   "cell_type": "markdown",
   "metadata": {},
   "source": [
    "### Convert from JSON to Python"
   ]
  },
  {
   "cell_type": "code",
   "execution_count": 37,
   "metadata": {
    "ExecuteTime": {
     "end_time": "2018-12-31T16:43:00.907006Z",
     "start_time": "2018-12-31T16:43:00.898015Z"
    }
   },
   "outputs": [
    {
     "name": "stdout",
     "output_type": "stream",
     "text": [
      "30\n",
      "<class 'dict'>\n"
     ]
    }
   ],
   "source": [
    "x =  '{ \"name\":\"John\", \"age\":30, \"city\":\"New York\"}'\n",
    "# Json string to Python Dict\n",
    "y = json.loads(x)\n",
    "print((y[\"age\"]))\n",
    "print((type(y)))"
   ]
  },
  {
   "cell_type": "markdown",
   "metadata": {},
   "source": [
    "### Convert from Python to JSON:"
   ]
  },
  {
   "cell_type": "code",
   "execution_count": 38,
   "metadata": {
    "ExecuteTime": {
     "end_time": "2018-12-31T16:43:01.291271Z",
     "start_time": "2018-12-31T16:43:01.275229Z"
    }
   },
   "outputs": [
    {
     "name": "stdout",
     "output_type": "stream",
     "text": [
      "{\"name\": \"John\", \"age\": 30, \"city\": \"New York\"}\n",
      "<class 'str'>\n"
     ]
    }
   ],
   "source": [
    "# a Python object (dict):\n",
    "x = {\n",
    "  \"name\": \"John\",\n",
    "  \"age\": 30,\n",
    "  \"city\": \"New York\"\n",
    "}\n",
    "\n",
    "# convert into JSON:\n",
    "y = json.dumps(x)\n",
    "\n",
    "# the result is a JSON string:\n",
    "print(y)\n",
    "print(type(y))"
   ]
  },
  {
   "cell_type": "code",
   "execution_count": 74,
   "metadata": {
    "ExecuteTime": {
     "end_time": "2018-12-31T17:23:56.256362Z",
     "start_time": "2018-12-31T17:23:56.247372Z"
    }
   },
   "outputs": [
    {
     "name": "stdout",
     "output_type": "stream",
     "text": [
      "Object of type 'complex' is not JSON serializable\n"
     ]
    }
   ],
   "source": [
    "try:\n",
    "    json.dumps(3 + 8j)\n",
    "except TypeError as t:\n",
    "    print(t)"
   ]
  },
  {
   "cell_type": "code",
   "execution_count": 75,
   "metadata": {
    "ExecuteTime": {
     "end_time": "2018-12-31T17:23:57.069447Z",
     "start_time": "2018-12-31T17:23:57.062428Z"
    }
   },
   "outputs": [
    {
     "name": "stdout",
     "output_type": "stream",
     "text": [
      "Value Error\n"
     ]
    }
   ],
   "source": [
    "try:\n",
    "    json.loads('myjson')\n",
    "except ValueError as  e:\n",
    "    print(\"Value Error\")"
   ]
  },
  {
   "cell_type": "code",
   "execution_count": 76,
   "metadata": {
    "ExecuteTime": {
     "end_time": "2018-12-31T17:24:29.720141Z",
     "start_time": "2018-12-31T17:24:29.713112Z"
    }
   },
   "outputs": [],
   "source": [
    "try:\n",
    "    json.dumps(True)\n",
    "except TypeError as t:\n",
    "    print(t)"
   ]
  },
  {
   "cell_type": "code",
   "execution_count": 78,
   "metadata": {
    "ExecuteTime": {
     "end_time": "2018-12-31T17:25:13.604598Z",
     "start_time": "2018-12-31T17:25:13.592585Z"
    }
   },
   "outputs": [
    {
     "name": "stdout",
     "output_type": "stream",
     "text": [
      "TypeError\n"
     ]
    }
   ],
   "source": [
    "try:\n",
    "    json.loads('True')\n",
    "except ValueError as  e:\n",
    "    print(\"Value Error\")\n",
    "except TypeError as  e1:\n",
    "    print(\"TypeError\")"
   ]
  },
  {
   "cell_type": "code",
   "execution_count": 39,
   "metadata": {
    "ExecuteTime": {
     "end_time": "2018-12-31T16:43:01.484419Z",
     "start_time": "2018-12-31T16:43:01.473422Z"
    }
   },
   "outputs": [],
   "source": [
    "def is_json(myjson):\n",
    "    try:\n",
    "        json_object = json.loads(myjson)\n",
    "    except ValueError as  e:\n",
    "        return False\n",
    "    return True"
   ]
  },
  {
   "cell_type": "code",
   "execution_count": 41,
   "metadata": {
    "ExecuteTime": {
     "end_time": "2018-12-31T16:43:01.905934Z",
     "start_time": "2018-12-31T16:43:01.890893Z"
    }
   },
   "outputs": [
    {
     "name": "stdout",
     "output_type": "stream",
     "text": [
      "True\n",
      "False\n",
      "True\n",
      "False\n",
      "True\n",
      "True\n",
      "True\n"
     ]
    }
   ],
   "source": [
    "print (is_json(\"{}\"))                         \n",
    "print (is_json(\"{asdf}\"))                     \n",
    "print (is_json('{ \"age\":100}'))               \n",
    "print (is_json(\"{'age':100 }\") )              \n",
    "print (is_json(\"{\\\"age\\\":100 }\"))             \n",
    "print (is_json('{\"age\":100 }')  )             \n",
    "print (is_json('{\"foo\":[5,6.8],\"foo\":\"bar\"}'))"
   ]
  },
  {
   "cell_type": "code",
   "execution_count": 40,
   "metadata": {
    "ExecuteTime": {
     "end_time": "2018-12-31T16:43:01.714474Z",
     "start_time": "2018-12-31T16:43:01.689407Z"
    }
   },
   "outputs": [
    {
     "name": "stdout",
     "output_type": "stream",
     "text": [
      "{\"name\": \"John\", \"age\": 30}\n",
      "[\"apple\", \"bananas\"]\n",
      "[\"apple\", \"bananas\"]\n",
      "\"hello\"\n",
      "42\n",
      "31.76\n",
      "true\n",
      "false\n",
      "null\n"
     ]
    }
   ],
   "source": [
    "print(json.dumps({\"name\": \"John\", \"age\": 30}))\n",
    "print(json.dumps([\"apple\", \"bananas\"]))\n",
    "print(json.dumps((\"apple\", \"bananas\")))\n",
    "print(json.dumps(\"hello\"))\n",
    "print(json.dumps(42))\n",
    "print(json.dumps(31.76))\n",
    "print(json.dumps(True))\n",
    "print(json.dumps(False))\n",
    "print(json.dumps(None))"
   ]
  },
  {
   "cell_type": "code",
   "execution_count": 42,
   "metadata": {
    "ExecuteTime": {
     "end_time": "2018-12-31T16:43:02.119177Z",
     "start_time": "2018-12-31T16:43:02.108148Z"
    }
   },
   "outputs": [
    {
     "name": "stdout",
     "output_type": "stream",
     "text": [
      "bar\n",
      "[5, 6, 7]\n"
     ]
    }
   ],
   "source": [
    "mydict = json.loads('{\"foo\":\"bar\"}')\n",
    "print(mydict['foo'])    #prints bar\n",
    "\n",
    "mylist = json.loads(\"[5,6,7]\")\n",
    "print(mylist)"
   ]
  },
  {
   "cell_type": "code",
   "execution_count": 43,
   "metadata": {
    "ExecuteTime": {
     "end_time": "2018-12-31T16:43:02.315208Z",
     "start_time": "2018-12-31T16:43:02.307187Z"
    }
   },
   "outputs": [
    {
     "name": "stdout",
     "output_type": "stream",
     "text": [
      "{\"name\": \"John\", \"age\": 30}\n"
     ]
    }
   ],
   "source": [
    "print(json.dumps({\"name\": \"John\", \"age\": 30}))"
   ]
  },
  {
   "cell_type": "code",
   "execution_count": 44,
   "metadata": {
    "ExecuteTime": {
     "end_time": "2018-12-31T16:43:02.561865Z",
     "start_time": "2018-12-31T16:43:02.542849Z"
    }
   },
   "outputs": [
    {
     "name": "stdout",
     "output_type": "stream",
     "text": [
      "{\n",
      "    \"name\" = \"John\". \n",
      "    \"age\" = 30. \n",
      "    \"married\" = true. \n",
      "    \"divorced\" = false. \n",
      "    \"children\" = [\n",
      "        \"Ann\". \n",
      "        \"Billy\"\n",
      "    ]. \n",
      "    \"pets\" = null. \n",
      "    \"cars\" = [\n",
      "        {\n",
      "            \"model\" = \"BMW 230\". \n",
      "            \"mpg\" = 27.5\n",
      "        }. \n",
      "        {\n",
      "            \"model\" = \"Ford Edge\". \n",
      "            \"mpg\" = 24.1\n",
      "        }\n",
      "    ]\n",
      "}\n"
     ]
    }
   ],
   "source": [
    "x = {\n",
    "  \"name\": \"John\",\n",
    "  \"age\": 30,\n",
    "  \"married\": True,\n",
    "  \"divorced\": False,\n",
    "  \"children\": (\"Ann\",\"Billy\"),\n",
    "  \"pets\": None,\n",
    "  \"cars\": [\n",
    "    {\"model\": \"BMW 230\", \"mpg\": 27.5},\n",
    "    {\"model\": \"Ford Edge\", \"mpg\": 24.1}\n",
    "  ]\n",
    "}\n",
    "\n",
    "# use . and a space to separate objects, and a space, a = and a space to separate keys from their values:\n",
    "print(json.dumps(x, indent=4, separators=(\". \", \" = \")))\n"
   ]
  },
  {
   "cell_type": "code",
   "execution_count": 45,
   "metadata": {
    "ExecuteTime": {
     "end_time": "2018-12-31T16:43:02.932041Z",
     "start_time": "2018-12-31T16:43:02.920004Z"
    }
   },
   "outputs": [
    {
     "data": {
      "text/plain": [
       "'{\"president\": {\"name\": \"Zaphod Beeblebrox\", \"species\": \"Betelgeusian\"}}'"
      ]
     },
     "execution_count": 45,
     "metadata": {},
     "output_type": "execute_result"
    }
   ],
   "source": [
    "data = {\n",
    "    \"president\": {\n",
    "        \"name\": \"Zaphod Beeblebrox\",\n",
    "        \"species\": \"Betelgeusian\"\n",
    "    }\n",
    "}\n",
    "json.dumps(data)"
   ]
  },
  {
   "cell_type": "code",
   "execution_count": 57,
   "metadata": {
    "ExecuteTime": {
     "end_time": "2018-12-31T16:43:59.553449Z",
     "start_time": "2018-12-31T16:43:59.544425Z"
    }
   },
   "outputs": [
    {
     "data": {
      "text/plain": [
       "'{\\n    \"president\": {\\n        \"name\": \"Zaphod Beeblebrox\",\\n        \"species\": \"Betelgeusian\"\\n    }\\n}'"
      ]
     },
     "execution_count": 57,
     "metadata": {},
     "output_type": "execute_result"
    }
   ],
   "source": [
    "json.dumps(data, indent=4)"
   ]
  },
  {
   "cell_type": "code",
   "execution_count": 46,
   "metadata": {
    "ExecuteTime": {
     "end_time": "2018-12-31T16:43:03.664593Z",
     "start_time": "2018-12-31T16:43:03.653591Z"
    }
   },
   "outputs": [
    {
     "data": {
      "text/plain": [
       "dict"
      ]
     },
     "execution_count": 46,
     "metadata": {},
     "output_type": "execute_result"
    }
   ],
   "source": [
    "type(data)"
   ]
  },
  {
   "cell_type": "code",
   "execution_count": 47,
   "metadata": {
    "ExecuteTime": {
     "end_time": "2018-12-31T16:43:04.063928Z",
     "start_time": "2018-12-31T16:43:04.054931Z"
    }
   },
   "outputs": [
    {
     "data": {
      "text/plain": [
       "str"
      ]
     },
     "execution_count": 47,
     "metadata": {},
     "output_type": "execute_result"
    }
   ],
   "source": [
    "type(json.dumps(data))"
   ]
  },
  {
   "cell_type": "code",
   "execution_count": 48,
   "metadata": {
    "ExecuteTime": {
     "end_time": "2018-12-31T16:43:04.456091Z",
     "start_time": "2018-12-31T16:43:04.448069Z"
    }
   },
   "outputs": [
    {
     "data": {
      "text/plain": [
       "dict"
      ]
     },
     "execution_count": 48,
     "metadata": {},
     "output_type": "execute_result"
    }
   ],
   "source": [
    "type(json.loads(json.dumps(data)))"
   ]
  },
  {
   "cell_type": "code",
   "execution_count": 49,
   "metadata": {
    "ExecuteTime": {
     "end_time": "2018-12-31T16:43:04.950027Z",
     "start_time": "2018-12-31T16:43:04.923992Z"
    }
   },
   "outputs": [
    {
     "data": {
      "text/html": [
       "<div>\n",
       "<style scoped>\n",
       "    .dataframe tbody tr th:only-of-type {\n",
       "        vertical-align: middle;\n",
       "    }\n",
       "\n",
       "    .dataframe tbody tr th {\n",
       "        vertical-align: top;\n",
       "    }\n",
       "\n",
       "    .dataframe thead th {\n",
       "        text-align: right;\n",
       "    }\n",
       "</style>\n",
       "<table border=\"1\" class=\"dataframe\">\n",
       "  <thead>\n",
       "    <tr style=\"text-align: right;\">\n",
       "      <th></th>\n",
       "      <th>president</th>\n",
       "    </tr>\n",
       "  </thead>\n",
       "  <tbody>\n",
       "    <tr>\n",
       "      <th>name</th>\n",
       "      <td>Zaphod Beeblebrox</td>\n",
       "    </tr>\n",
       "    <tr>\n",
       "      <th>species</th>\n",
       "      <td>Betelgeusian</td>\n",
       "    </tr>\n",
       "  </tbody>\n",
       "</table>\n",
       "</div>"
      ],
      "text/plain": [
       "                 president\n",
       "name     Zaphod Beeblebrox\n",
       "species       Betelgeusian"
      ]
     },
     "execution_count": 49,
     "metadata": {},
     "output_type": "execute_result"
    }
   ],
   "source": [
    "df = pd.read_json(json.dumps(data))\n",
    "df"
   ]
  },
  {
   "cell_type": "code",
   "execution_count": 50,
   "metadata": {
    "ExecuteTime": {
     "end_time": "2018-12-31T16:43:05.585980Z",
     "start_time": "2018-12-31T16:43:05.577992Z"
    }
   },
   "outputs": [
    {
     "data": {
      "text/plain": [
       "'{\"president\":{\"name\":\"Zaphod Beeblebrox\",\"species\":\"Betelgeusian\"}}'"
      ]
     },
     "execution_count": 50,
     "metadata": {},
     "output_type": "execute_result"
    }
   ],
   "source": [
    "df.to_json()"
   ]
  },
  {
   "cell_type": "code",
   "execution_count": 51,
   "metadata": {
    "ExecuteTime": {
     "end_time": "2018-12-31T16:43:06.504912Z",
     "start_time": "2018-12-31T16:43:06.490909Z"
    }
   },
   "outputs": [
    {
     "data": {
      "text/plain": [
       "False"
      ]
     },
     "execution_count": 51,
     "metadata": {},
     "output_type": "execute_result"
    }
   ],
   "source": [
    "blackjack_hand = (8, \"Q\")\n",
    "encoded_hand = json.dumps(blackjack_hand)\n",
    "decoded_hand = json.loads(encoded_hand)\n",
    "\n",
    "blackjack_hand == decoded_hand"
   ]
  },
  {
   "cell_type": "code",
   "execution_count": 52,
   "metadata": {
    "ExecuteTime": {
     "end_time": "2018-12-31T16:43:08.670110Z",
     "start_time": "2018-12-31T16:43:08.662111Z"
    }
   },
   "outputs": [
    {
     "data": {
      "text/plain": [
       "tuple"
      ]
     },
     "execution_count": 52,
     "metadata": {},
     "output_type": "execute_result"
    }
   ],
   "source": [
    "type(blackjack_hand)"
   ]
  },
  {
   "cell_type": "code",
   "execution_count": 53,
   "metadata": {
    "ExecuteTime": {
     "end_time": "2018-12-31T16:43:09.129010Z",
     "start_time": "2018-12-31T16:43:09.120989Z"
    }
   },
   "outputs": [
    {
     "data": {
      "text/plain": [
       "list"
      ]
     },
     "execution_count": 53,
     "metadata": {},
     "output_type": "execute_result"
    }
   ],
   "source": [
    "type(decoded_hand)"
   ]
  },
  {
   "cell_type": "code",
   "execution_count": 54,
   "metadata": {
    "ExecuteTime": {
     "end_time": "2018-12-31T16:43:09.663668Z",
     "start_time": "2018-12-31T16:43:09.655647Z"
    }
   },
   "outputs": [
    {
     "data": {
      "text/plain": [
       "True"
      ]
     },
     "execution_count": 54,
     "metadata": {},
     "output_type": "execute_result"
    }
   ],
   "source": [
    "blackjack_hand == tuple(decoded_hand)"
   ]
  },
  {
   "cell_type": "code",
   "execution_count": 55,
   "metadata": {
    "ExecuteTime": {
     "end_time": "2018-12-31T16:43:10.514892Z",
     "start_time": "2018-12-31T16:43:10.505902Z"
    }
   },
   "outputs": [
    {
     "data": {
      "text/plain": [
       "[0, 1, 2, 3, 4, 5, 6, 7, 8, 9]"
      ]
     },
     "execution_count": 55,
     "metadata": {},
     "output_type": "execute_result"
    }
   ],
   "source": [
    "list(range(10))"
   ]
  },
  {
   "cell_type": "code",
   "execution_count": 58,
   "metadata": {
    "ExecuteTime": {
     "end_time": "2018-12-31T16:45:11.916012Z",
     "start_time": "2018-12-31T16:45:11.903981Z"
    }
   },
   "outputs": [
    {
     "data": {
      "text/plain": [
       "{'researcher': {'name': 'Ford Prefect',\n",
       "  'relatives': [{'name': 'Zaphod Beeblebrox', 'species': 'Betelgeusian'}],\n",
       "  'species': 'Betelgeusian'}}"
      ]
     },
     "execution_count": 58,
     "metadata": {},
     "output_type": "execute_result"
    }
   ],
   "source": [
    "json_string = \"\"\"\n",
    "{\n",
    "    \"researcher\": {\n",
    "        \"name\": \"Ford Prefect\",\n",
    "        \"species\": \"Betelgeusian\",\n",
    "        \"relatives\": [\n",
    "            {\n",
    "                \"name\": \"Zaphod Beeblebrox\",\n",
    "                \"species\": \"Betelgeusian\"\n",
    "            }\n",
    "        ]\n",
    "    }\n",
    "}\n",
    "\"\"\"\n",
    "data = json.loads(json_string)\n",
    "data"
   ]
  },
  {
   "cell_type": "code",
   "execution_count": 60,
   "metadata": {
    "ExecuteTime": {
     "end_time": "2018-12-31T16:48:03.907878Z",
     "start_time": "2018-12-31T16:48:03.245106Z"
    }
   },
   "outputs": [
    {
     "data": {
      "text/plain": [
       "[{'completed': False, 'id': 1, 'title': 'delectus aut autem', 'userId': 1},\n",
       " {'completed': False,\n",
       "  'id': 2,\n",
       "  'title': 'quis ut nam facilis et officia qui',\n",
       "  'userId': 1},\n",
       " {'completed': False, 'id': 3, 'title': 'fugiat veniam minus', 'userId': 1},\n",
       " {'completed': True, 'id': 4, 'title': 'et porro tempora', 'userId': 1},\n",
       " {'completed': False,\n",
       "  'id': 5,\n",
       "  'title': 'laboriosam mollitia et enim quasi adipisci quia provident illum',\n",
       "  'userId': 1},\n",
       " {'completed': False,\n",
       "  'id': 6,\n",
       "  'title': 'qui ullam ratione quibusdam voluptatem quia omnis',\n",
       "  'userId': 1},\n",
       " {'completed': False,\n",
       "  'id': 7,\n",
       "  'title': 'illo expedita consequatur quia in',\n",
       "  'userId': 1},\n",
       " {'completed': True,\n",
       "  'id': 8,\n",
       "  'title': 'quo adipisci enim quam ut ab',\n",
       "  'userId': 1},\n",
       " {'completed': False,\n",
       "  'id': 9,\n",
       "  'title': 'molestiae perspiciatis ipsa',\n",
       "  'userId': 1},\n",
       " {'completed': True,\n",
       "  'id': 10,\n",
       "  'title': 'illo est ratione doloremque quia maiores aut',\n",
       "  'userId': 1},\n",
       " {'completed': True,\n",
       "  'id': 11,\n",
       "  'title': 'vero rerum temporibus dolor',\n",
       "  'userId': 1},\n",
       " {'completed': True,\n",
       "  'id': 12,\n",
       "  'title': 'ipsa repellendus fugit nisi',\n",
       "  'userId': 1},\n",
       " {'completed': False, 'id': 13, 'title': 'et doloremque nulla', 'userId': 1},\n",
       " {'completed': True,\n",
       "  'id': 14,\n",
       "  'title': 'repellendus sunt dolores architecto voluptatum',\n",
       "  'userId': 1},\n",
       " {'completed': True,\n",
       "  'id': 15,\n",
       "  'title': 'ab voluptatum amet voluptas',\n",
       "  'userId': 1},\n",
       " {'completed': True,\n",
       "  'id': 16,\n",
       "  'title': 'accusamus eos facilis sint et aut voluptatem',\n",
       "  'userId': 1},\n",
       " {'completed': True,\n",
       "  'id': 17,\n",
       "  'title': 'quo laboriosam deleniti aut qui',\n",
       "  'userId': 1},\n",
       " {'completed': False,\n",
       "  'id': 18,\n",
       "  'title': 'dolorum est consequatur ea mollitia in culpa',\n",
       "  'userId': 1},\n",
       " {'completed': True,\n",
       "  'id': 19,\n",
       "  'title': 'molestiae ipsa aut voluptatibus pariatur dolor nihil',\n",
       "  'userId': 1},\n",
       " {'completed': True,\n",
       "  'id': 20,\n",
       "  'title': 'ullam nobis libero sapiente ad optio sint',\n",
       "  'userId': 1},\n",
       " {'completed': False,\n",
       "  'id': 21,\n",
       "  'title': 'suscipit repellat esse quibusdam voluptatem incidunt',\n",
       "  'userId': 2},\n",
       " {'completed': True,\n",
       "  'id': 22,\n",
       "  'title': 'distinctio vitae autem nihil ut molestias quo',\n",
       "  'userId': 2},\n",
       " {'completed': False,\n",
       "  'id': 23,\n",
       "  'title': 'et itaque necessitatibus maxime molestiae qui quas velit',\n",
       "  'userId': 2},\n",
       " {'completed': False,\n",
       "  'id': 24,\n",
       "  'title': 'adipisci non ad dicta qui amet quaerat doloribus ea',\n",
       "  'userId': 2},\n",
       " {'completed': True,\n",
       "  'id': 25,\n",
       "  'title': 'voluptas quo tenetur perspiciatis explicabo natus',\n",
       "  'userId': 2},\n",
       " {'completed': True, 'id': 26, 'title': 'aliquam aut quasi', 'userId': 2},\n",
       " {'completed': True,\n",
       "  'id': 27,\n",
       "  'title': 'veritatis pariatur delectus',\n",
       "  'userId': 2},\n",
       " {'completed': False,\n",
       "  'id': 28,\n",
       "  'title': 'nesciunt totam sit blanditiis sit',\n",
       "  'userId': 2},\n",
       " {'completed': False, 'id': 29, 'title': 'laborum aut in quam', 'userId': 2},\n",
       " {'completed': True,\n",
       "  'id': 30,\n",
       "  'title': 'nemo perspiciatis repellat ut dolor libero commodi blanditiis omnis',\n",
       "  'userId': 2},\n",
       " {'completed': False,\n",
       "  'id': 31,\n",
       "  'title': 'repudiandae totam in est sint facere fuga',\n",
       "  'userId': 2},\n",
       " {'completed': False,\n",
       "  'id': 32,\n",
       "  'title': 'earum doloribus ea doloremque quis',\n",
       "  'userId': 2},\n",
       " {'completed': False, 'id': 33, 'title': 'sint sit aut vero', 'userId': 2},\n",
       " {'completed': False,\n",
       "  'id': 34,\n",
       "  'title': 'porro aut necessitatibus eaque distinctio',\n",
       "  'userId': 2},\n",
       " {'completed': True,\n",
       "  'id': 35,\n",
       "  'title': 'repellendus veritatis molestias dicta incidunt',\n",
       "  'userId': 2},\n",
       " {'completed': True,\n",
       "  'id': 36,\n",
       "  'title': 'excepturi deleniti adipisci voluptatem et neque optio illum ad',\n",
       "  'userId': 2},\n",
       " {'completed': False, 'id': 37, 'title': 'sunt cum tempora', 'userId': 2},\n",
       " {'completed': False, 'id': 38, 'title': 'totam quia non', 'userId': 2},\n",
       " {'completed': False,\n",
       "  'id': 39,\n",
       "  'title': 'doloremque quibusdam asperiores libero corrupti illum qui omnis',\n",
       "  'userId': 2},\n",
       " {'completed': True,\n",
       "  'id': 40,\n",
       "  'title': 'totam atque quo nesciunt',\n",
       "  'userId': 2},\n",
       " {'completed': False,\n",
       "  'id': 41,\n",
       "  'title': 'aliquid amet impedit consequatur aspernatur placeat eaque fugiat suscipit',\n",
       "  'userId': 3},\n",
       " {'completed': False,\n",
       "  'id': 42,\n",
       "  'title': 'rerum perferendis error quia ut eveniet',\n",
       "  'userId': 3},\n",
       " {'completed': True,\n",
       "  'id': 43,\n",
       "  'title': 'tempore ut sint quis recusandae',\n",
       "  'userId': 3},\n",
       " {'completed': True,\n",
       "  'id': 44,\n",
       "  'title': 'cum debitis quis accusamus doloremque ipsa natus sapiente omnis',\n",
       "  'userId': 3},\n",
       " {'completed': False,\n",
       "  'id': 45,\n",
       "  'title': 'velit soluta adipisci molestias reiciendis harum',\n",
       "  'userId': 3},\n",
       " {'completed': False,\n",
       "  'id': 46,\n",
       "  'title': 'vel voluptatem repellat nihil placeat corporis',\n",
       "  'userId': 3},\n",
       " {'completed': False,\n",
       "  'id': 47,\n",
       "  'title': 'nam qui rerum fugiat accusamus',\n",
       "  'userId': 3},\n",
       " {'completed': False,\n",
       "  'id': 48,\n",
       "  'title': 'sit reprehenderit omnis quia',\n",
       "  'userId': 3},\n",
       " {'completed': False,\n",
       "  'id': 49,\n",
       "  'title': 'ut necessitatibus aut maiores debitis officia blanditiis velit et',\n",
       "  'userId': 3},\n",
       " {'completed': True,\n",
       "  'id': 50,\n",
       "  'title': 'cupiditate necessitatibus ullam aut quis dolor voluptate',\n",
       "  'userId': 3},\n",
       " {'completed': False,\n",
       "  'id': 51,\n",
       "  'title': 'distinctio exercitationem ab doloribus',\n",
       "  'userId': 3},\n",
       " {'completed': False,\n",
       "  'id': 52,\n",
       "  'title': 'nesciunt dolorum quis recusandae ad pariatur ratione',\n",
       "  'userId': 3},\n",
       " {'completed': False,\n",
       "  'id': 53,\n",
       "  'title': 'qui labore est occaecati recusandae aliquid quam',\n",
       "  'userId': 3},\n",
       " {'completed': True,\n",
       "  'id': 54,\n",
       "  'title': 'quis et est ut voluptate quam dolor',\n",
       "  'userId': 3},\n",
       " {'completed': True,\n",
       "  'id': 55,\n",
       "  'title': 'voluptatum omnis minima qui occaecati provident nulla voluptatem ratione',\n",
       "  'userId': 3},\n",
       " {'completed': True,\n",
       "  'id': 56,\n",
       "  'title': 'deleniti ea temporibus enim',\n",
       "  'userId': 3},\n",
       " {'completed': False,\n",
       "  'id': 57,\n",
       "  'title': 'pariatur et magnam ea doloribus similique voluptatem rerum quia',\n",
       "  'userId': 3},\n",
       " {'completed': False,\n",
       "  'id': 58,\n",
       "  'title': 'est dicta totam qui explicabo doloribus qui dignissimos',\n",
       "  'userId': 3},\n",
       " {'completed': False,\n",
       "  'id': 59,\n",
       "  'title': 'perspiciatis velit id laborum placeat iusto et aliquam odio',\n",
       "  'userId': 3},\n",
       " {'completed': True,\n",
       "  'id': 60,\n",
       "  'title': 'et sequi qui architecto ut adipisci',\n",
       "  'userId': 3},\n",
       " {'completed': True,\n",
       "  'id': 61,\n",
       "  'title': 'odit optio omnis qui sunt',\n",
       "  'userId': 4},\n",
       " {'completed': False,\n",
       "  'id': 62,\n",
       "  'title': 'et placeat et tempore aspernatur sint numquam',\n",
       "  'userId': 4},\n",
       " {'completed': True,\n",
       "  'id': 63,\n",
       "  'title': 'doloremque aut dolores quidem fuga qui nulla',\n",
       "  'userId': 4},\n",
       " {'completed': False,\n",
       "  'id': 64,\n",
       "  'title': 'voluptas consequatur qui ut quia magnam nemo esse',\n",
       "  'userId': 4},\n",
       " {'completed': False,\n",
       "  'id': 65,\n",
       "  'title': 'fugiat pariatur ratione ut asperiores necessitatibus magni',\n",
       "  'userId': 4},\n",
       " {'completed': False,\n",
       "  'id': 66,\n",
       "  'title': 'rerum eum molestias autem voluptatum sit optio',\n",
       "  'userId': 4},\n",
       " {'completed': False,\n",
       "  'id': 67,\n",
       "  'title': 'quia voluptatibus voluptatem quos similique maiores repellat',\n",
       "  'userId': 4},\n",
       " {'completed': False,\n",
       "  'id': 68,\n",
       "  'title': 'aut id perspiciatis voluptatem iusto',\n",
       "  'userId': 4},\n",
       " {'completed': False,\n",
       "  'id': 69,\n",
       "  'title': 'doloribus sint dolorum ab adipisci itaque dignissimos aliquam suscipit',\n",
       "  'userId': 4},\n",
       " {'completed': False,\n",
       "  'id': 70,\n",
       "  'title': 'ut sequi accusantium et mollitia delectus sunt',\n",
       "  'userId': 4},\n",
       " {'completed': False, 'id': 71, 'title': 'aut velit saepe ullam', 'userId': 4},\n",
       " {'completed': False,\n",
       "  'id': 72,\n",
       "  'title': 'praesentium facilis facere quis harum voluptatibus voluptatem eum',\n",
       "  'userId': 4},\n",
       " {'completed': True,\n",
       "  'id': 73,\n",
       "  'title': 'sint amet quia totam corporis qui exercitationem commodi',\n",
       "  'userId': 4},\n",
       " {'completed': False,\n",
       "  'id': 74,\n",
       "  'title': 'expedita tempore nobis eveniet laborum maiores',\n",
       "  'userId': 4},\n",
       " {'completed': False,\n",
       "  'id': 75,\n",
       "  'title': 'occaecati adipisci est possimus totam',\n",
       "  'userId': 4},\n",
       " {'completed': True, 'id': 76, 'title': 'sequi dolorem sed', 'userId': 4},\n",
       " {'completed': False,\n",
       "  'id': 77,\n",
       "  'title': 'maiores aut nesciunt delectus exercitationem vel assumenda eligendi at',\n",
       "  'userId': 4},\n",
       " {'completed': False,\n",
       "  'id': 78,\n",
       "  'title': 'reiciendis est magnam amet nemo iste recusandae impedit quaerat',\n",
       "  'userId': 4},\n",
       " {'completed': True, 'id': 79, 'title': 'eum ipsa maxime ut', 'userId': 4},\n",
       " {'completed': True,\n",
       "  'id': 80,\n",
       "  'title': 'tempore molestias dolores rerum sequi voluptates ipsum consequatur',\n",
       "  'userId': 4},\n",
       " {'completed': True, 'id': 81, 'title': 'suscipit qui totam', 'userId': 5},\n",
       " {'completed': False,\n",
       "  'id': 82,\n",
       "  'title': 'voluptates eum voluptas et dicta',\n",
       "  'userId': 5},\n",
       " {'completed': True,\n",
       "  'id': 83,\n",
       "  'title': 'quidem at rerum quis ex aut sit quam',\n",
       "  'userId': 5},\n",
       " {'completed': False,\n",
       "  'id': 84,\n",
       "  'title': 'sunt veritatis ut voluptate',\n",
       "  'userId': 5},\n",
       " {'completed': True, 'id': 85, 'title': 'et quia ad iste a', 'userId': 5},\n",
       " {'completed': True,\n",
       "  'id': 86,\n",
       "  'title': 'incidunt ut saepe autem',\n",
       "  'userId': 5},\n",
       " {'completed': True,\n",
       "  'id': 87,\n",
       "  'title': 'laudantium quae eligendi consequatur quia et vero autem',\n",
       "  'userId': 5},\n",
       " {'completed': False,\n",
       "  'id': 88,\n",
       "  'title': 'vitae aut excepturi laboriosam sint aliquam et et accusantium',\n",
       "  'userId': 5},\n",
       " {'completed': True, 'id': 89, 'title': 'sequi ut omnis et', 'userId': 5},\n",
       " {'completed': True,\n",
       "  'id': 90,\n",
       "  'title': 'molestiae nisi accusantium tenetur dolorem et',\n",
       "  'userId': 5},\n",
       " {'completed': True,\n",
       "  'id': 91,\n",
       "  'title': 'nulla quis consequatur saepe qui id expedita',\n",
       "  'userId': 5},\n",
       " {'completed': True, 'id': 92, 'title': 'in omnis laboriosam', 'userId': 5},\n",
       " {'completed': True,\n",
       "  'id': 93,\n",
       "  'title': 'odio iure consequatur molestiae quibusdam necessitatibus quia sint',\n",
       "  'userId': 5},\n",
       " {'completed': False,\n",
       "  'id': 94,\n",
       "  'title': 'facilis modi saepe mollitia',\n",
       "  'userId': 5},\n",
       " {'completed': True,\n",
       "  'id': 95,\n",
       "  'title': 'vel nihil et molestiae iusto assumenda nemo quo ut',\n",
       "  'userId': 5},\n",
       " {'completed': False,\n",
       "  'id': 96,\n",
       "  'title': 'nobis suscipit ducimus enim asperiores voluptas',\n",
       "  'userId': 5},\n",
       " {'completed': False,\n",
       "  'id': 97,\n",
       "  'title': 'dolorum laboriosam eos qui iure aliquam',\n",
       "  'userId': 5},\n",
       " {'completed': True,\n",
       "  'id': 98,\n",
       "  'title': 'debitis accusantium ut quo facilis nihil quis sapiente necessitatibus',\n",
       "  'userId': 5},\n",
       " {'completed': False,\n",
       "  'id': 99,\n",
       "  'title': 'neque voluptates ratione',\n",
       "  'userId': 5},\n",
       " {'completed': False,\n",
       "  'id': 100,\n",
       "  'title': 'excepturi a et neque qui expedita vel voluptate',\n",
       "  'userId': 5},\n",
       " {'completed': False,\n",
       "  'id': 101,\n",
       "  'title': 'explicabo enim cumque porro aperiam occaecati minima',\n",
       "  'userId': 6},\n",
       " {'completed': False, 'id': 102, 'title': 'sed ab consequatur', 'userId': 6},\n",
       " {'completed': False,\n",
       "  'id': 103,\n",
       "  'title': 'non sunt delectus illo nulla tenetur enim omnis',\n",
       "  'userId': 6},\n",
       " {'completed': False,\n",
       "  'id': 104,\n",
       "  'title': 'excepturi non laudantium quo',\n",
       "  'userId': 6},\n",
       " {'completed': True,\n",
       "  'id': 105,\n",
       "  'title': 'totam quia dolorem et illum repellat voluptas optio',\n",
       "  'userId': 6},\n",
       " {'completed': True,\n",
       "  'id': 106,\n",
       "  'title': 'ad illo quis voluptatem temporibus',\n",
       "  'userId': 6},\n",
       " {'completed': False,\n",
       "  'id': 107,\n",
       "  'title': 'praesentium facilis omnis laudantium fugit ad iusto nihil nesciunt',\n",
       "  'userId': 6},\n",
       " {'completed': True,\n",
       "  'id': 108,\n",
       "  'title': 'a eos eaque nihil et exercitationem incidunt delectus',\n",
       "  'userId': 6},\n",
       " {'completed': True,\n",
       "  'id': 109,\n",
       "  'title': 'autem temporibus harum quisquam in culpa',\n",
       "  'userId': 6},\n",
       " {'completed': True, 'id': 110, 'title': 'aut aut ea corporis', 'userId': 6},\n",
       " {'completed': False,\n",
       "  'id': 111,\n",
       "  'title': 'magni accusantium labore et id quis provident',\n",
       "  'userId': 6},\n",
       " {'completed': False,\n",
       "  'id': 112,\n",
       "  'title': 'consectetur impedit quisquam qui deserunt non rerum consequuntur eius',\n",
       "  'userId': 6},\n",
       " {'completed': False,\n",
       "  'id': 113,\n",
       "  'title': 'quia atque aliquam sunt impedit voluptatum rerum assumenda nisi',\n",
       "  'userId': 6},\n",
       " {'completed': False,\n",
       "  'id': 114,\n",
       "  'title': 'cupiditate quos possimus corporis quisquam exercitationem beatae',\n",
       "  'userId': 6},\n",
       " {'completed': False, 'id': 115, 'title': 'sed et ea eum', 'userId': 6},\n",
       " {'completed': True,\n",
       "  'id': 116,\n",
       "  'title': 'ipsa dolores vel facilis ut',\n",
       "  'userId': 6},\n",
       " {'completed': False,\n",
       "  'id': 117,\n",
       "  'title': 'sequi quae est et qui qui eveniet asperiores',\n",
       "  'userId': 6},\n",
       " {'completed': False,\n",
       "  'id': 118,\n",
       "  'title': 'quia modi consequatur vero fugiat',\n",
       "  'userId': 6},\n",
       " {'completed': False,\n",
       "  'id': 119,\n",
       "  'title': 'corporis ducimus ea perspiciatis iste',\n",
       "  'userId': 6},\n",
       " {'completed': False,\n",
       "  'id': 120,\n",
       "  'title': 'dolorem laboriosam vel voluptas et aliquam quasi',\n",
       "  'userId': 6},\n",
       " {'completed': True,\n",
       "  'id': 121,\n",
       "  'title': 'inventore aut nihil minima laudantium hic qui omnis',\n",
       "  'userId': 7},\n",
       " {'completed': True,\n",
       "  'id': 122,\n",
       "  'title': 'provident aut nobis culpa',\n",
       "  'userId': 7},\n",
       " {'completed': False,\n",
       "  'id': 123,\n",
       "  'title': 'esse et quis iste est earum aut impedit',\n",
       "  'userId': 7},\n",
       " {'completed': False, 'id': 124, 'title': 'qui consectetur id', 'userId': 7},\n",
       " {'completed': False,\n",
       "  'id': 125,\n",
       "  'title': 'aut quasi autem iste tempore illum possimus',\n",
       "  'userId': 7},\n",
       " {'completed': True,\n",
       "  'id': 126,\n",
       "  'title': 'ut asperiores perspiciatis veniam ipsum rerum saepe',\n",
       "  'userId': 7},\n",
       " {'completed': True,\n",
       "  'id': 127,\n",
       "  'title': 'voluptatem libero consectetur rerum ut',\n",
       "  'userId': 7},\n",
       " {'completed': False,\n",
       "  'id': 128,\n",
       "  'title': 'eius omnis est qui voluptatem autem',\n",
       "  'userId': 7},\n",
       " {'completed': False,\n",
       "  'id': 129,\n",
       "  'title': 'rerum culpa quis harum',\n",
       "  'userId': 7},\n",
       " {'completed': True,\n",
       "  'id': 130,\n",
       "  'title': 'nulla aliquid eveniet harum laborum libero alias ut unde',\n",
       "  'userId': 7},\n",
       " {'completed': False, 'id': 131, 'title': 'qui ea incidunt quis', 'userId': 7},\n",
       " {'completed': True,\n",
       "  'id': 132,\n",
       "  'title': 'qui molestiae voluptatibus velit iure harum quisquam',\n",
       "  'userId': 7},\n",
       " {'completed': True,\n",
       "  'id': 133,\n",
       "  'title': 'et labore eos enim rerum consequatur sunt',\n",
       "  'userId': 7},\n",
       " {'completed': False,\n",
       "  'id': 134,\n",
       "  'title': 'molestiae doloribus et laborum quod ea',\n",
       "  'userId': 7},\n",
       " {'completed': False,\n",
       "  'id': 135,\n",
       "  'title': 'facere ipsa nam eum voluptates reiciendis vero qui',\n",
       "  'userId': 7},\n",
       " {'completed': False,\n",
       "  'id': 136,\n",
       "  'title': 'asperiores illo tempora fuga sed ut quasi adipisci',\n",
       "  'userId': 7},\n",
       " {'completed': False, 'id': 137, 'title': 'qui sit non', 'userId': 7},\n",
       " {'completed': True,\n",
       "  'id': 138,\n",
       "  'title': 'placeat minima consequatur rem qui ut',\n",
       "  'userId': 7},\n",
       " {'completed': False,\n",
       "  'id': 139,\n",
       "  'title': 'consequatur doloribus id possimus voluptas a voluptatem',\n",
       "  'userId': 7},\n",
       " {'completed': True,\n",
       "  'id': 140,\n",
       "  'title': 'aut consectetur in blanditiis deserunt quia sed laboriosam',\n",
       "  'userId': 7},\n",
       " {'completed': True,\n",
       "  'id': 141,\n",
       "  'title': 'explicabo consectetur debitis voluptates quas quae culpa rerum non',\n",
       "  'userId': 8},\n",
       " {'completed': True,\n",
       "  'id': 142,\n",
       "  'title': 'maiores accusantium architecto necessitatibus reiciendis ea aut',\n",
       "  'userId': 8},\n",
       " {'completed': False,\n",
       "  'id': 143,\n",
       "  'title': 'eum non recusandae cupiditate animi',\n",
       "  'userId': 8},\n",
       " {'completed': False,\n",
       "  'id': 144,\n",
       "  'title': 'ut eum exercitationem sint',\n",
       "  'userId': 8},\n",
       " {'completed': False,\n",
       "  'id': 145,\n",
       "  'title': 'beatae qui ullam incidunt voluptatem non nisi aliquam',\n",
       "  'userId': 8},\n",
       " {'completed': True,\n",
       "  'id': 146,\n",
       "  'title': 'molestiae suscipit ratione nihil odio libero impedit vero totam',\n",
       "  'userId': 8},\n",
       " {'completed': True,\n",
       "  'id': 147,\n",
       "  'title': 'eum itaque quod reprehenderit et facilis dolor autem ut',\n",
       "  'userId': 8},\n",
       " {'completed': False,\n",
       "  'id': 148,\n",
       "  'title': 'esse quas et quo quasi exercitationem',\n",
       "  'userId': 8},\n",
       " {'completed': False,\n",
       "  'id': 149,\n",
       "  'title': 'animi voluptas quod perferendis est',\n",
       "  'userId': 8},\n",
       " {'completed': False,\n",
       "  'id': 150,\n",
       "  'title': 'eos amet tempore laudantium fugit a',\n",
       "  'userId': 8},\n",
       " {'completed': True,\n",
       "  'id': 151,\n",
       "  'title': 'accusamus adipisci dicta qui quo ea explicabo sed vero',\n",
       "  'userId': 8},\n",
       " {'completed': False,\n",
       "  'id': 152,\n",
       "  'title': 'odit eligendi recusandae doloremque cumque non',\n",
       "  'userId': 8},\n",
       " {'completed': False,\n",
       "  'id': 153,\n",
       "  'title': 'ea aperiam consequatur qui repellat eos',\n",
       "  'userId': 8},\n",
       " {'completed': True, 'id': 154, 'title': 'rerum non ex sapiente', 'userId': 8},\n",
       " {'completed': True,\n",
       "  'id': 155,\n",
       "  'title': 'voluptatem nobis consequatur et assumenda magnam',\n",
       "  'userId': 8},\n",
       " {'completed': True,\n",
       "  'id': 156,\n",
       "  'title': 'nam quia quia nulla repellat assumenda quibusdam sit nobis',\n",
       "  'userId': 8},\n",
       " {'completed': True,\n",
       "  'id': 157,\n",
       "  'title': 'dolorem veniam quisquam deserunt repellendus',\n",
       "  'userId': 8},\n",
       " {'completed': True,\n",
       "  'id': 158,\n",
       "  'title': 'debitis vitae delectus et harum accusamus aut deleniti a',\n",
       "  'userId': 8},\n",
       " {'completed': True,\n",
       "  'id': 159,\n",
       "  'title': 'debitis adipisci quibusdam aliquam sed dolore ea praesentium nobis',\n",
       "  'userId': 8},\n",
       " {'completed': False,\n",
       "  'id': 160,\n",
       "  'title': 'et praesentium aliquam est',\n",
       "  'userId': 8},\n",
       " {'completed': True,\n",
       "  'id': 161,\n",
       "  'title': 'ex hic consequuntur earum omnis alias ut occaecati culpa',\n",
       "  'userId': 9},\n",
       " {'completed': True,\n",
       "  'id': 162,\n",
       "  'title': 'omnis laboriosam molestias animi sunt dolore',\n",
       "  'userId': 9},\n",
       " {'completed': False,\n",
       "  'id': 163,\n",
       "  'title': 'natus corrupti maxime laudantium et voluptatem laboriosam odit',\n",
       "  'userId': 9},\n",
       " {'completed': False,\n",
       "  'id': 164,\n",
       "  'title': 'reprehenderit quos aut aut consequatur est sed',\n",
       "  'userId': 9},\n",
       " {'completed': False,\n",
       "  'id': 165,\n",
       "  'title': 'fugiat perferendis sed aut quidem',\n",
       "  'userId': 9},\n",
       " {'completed': False,\n",
       "  'id': 166,\n",
       "  'title': 'quos quo possimus suscipit minima ut',\n",
       "  'userId': 9},\n",
       " {'completed': False,\n",
       "  'id': 167,\n",
       "  'title': 'et quis minus quo a asperiores molestiae',\n",
       "  'userId': 9},\n",
       " {'completed': False,\n",
       "  'id': 168,\n",
       "  'title': 'recusandae quia qui sunt libero',\n",
       "  'userId': 9},\n",
       " {'completed': True,\n",
       "  'id': 169,\n",
       "  'title': 'ea odio perferendis officiis',\n",
       "  'userId': 9},\n",
       " {'completed': False,\n",
       "  'id': 170,\n",
       "  'title': 'quisquam aliquam quia doloribus aut',\n",
       "  'userId': 9},\n",
       " {'completed': True,\n",
       "  'id': 171,\n",
       "  'title': 'fugiat aut voluptatibus corrupti deleniti velit iste odio',\n",
       "  'userId': 9},\n",
       " {'completed': False,\n",
       "  'id': 172,\n",
       "  'title': 'et provident amet rerum consectetur et voluptatum',\n",
       "  'userId': 9},\n",
       " {'completed': False,\n",
       "  'id': 173,\n",
       "  'title': 'harum ad aperiam quis',\n",
       "  'userId': 9},\n",
       " {'completed': False, 'id': 174, 'title': 'similique aut quo', 'userId': 9},\n",
       " {'completed': True,\n",
       "  'id': 175,\n",
       "  'title': 'laudantium eius officia perferendis provident perspiciatis asperiores',\n",
       "  'userId': 9},\n",
       " {'completed': False,\n",
       "  'id': 176,\n",
       "  'title': 'magni soluta corrupti ut maiores rem quidem',\n",
       "  'userId': 9},\n",
       " {'completed': False,\n",
       "  'id': 177,\n",
       "  'title': 'et placeat temporibus voluptas est tempora quos quibusdam',\n",
       "  'userId': 9},\n",
       " {'completed': True,\n",
       "  'id': 178,\n",
       "  'title': 'nesciunt itaque commodi tempore',\n",
       "  'userId': 9},\n",
       " {'completed': True,\n",
       "  'id': 179,\n",
       "  'title': 'omnis consequuntur cupiditate impedit itaque ipsam quo',\n",
       "  'userId': 9},\n",
       " {'completed': True,\n",
       "  'id': 180,\n",
       "  'title': 'debitis nisi et dolorem repellat et',\n",
       "  'userId': 9},\n",
       " {'completed': False,\n",
       "  'id': 181,\n",
       "  'title': 'ut cupiditate sequi aliquam fuga maiores',\n",
       "  'userId': 10},\n",
       " {'completed': True,\n",
       "  'id': 182,\n",
       "  'title': 'inventore saepe cumque et aut illum enim',\n",
       "  'userId': 10},\n",
       " {'completed': True,\n",
       "  'id': 183,\n",
       "  'title': 'omnis nulla eum aliquam distinctio',\n",
       "  'userId': 10},\n",
       " {'completed': False,\n",
       "  'id': 184,\n",
       "  'title': 'molestias modi perferendis perspiciatis',\n",
       "  'userId': 10},\n",
       " {'completed': False,\n",
       "  'id': 185,\n",
       "  'title': 'voluptates dignissimos sed doloribus animi quaerat aut',\n",
       "  'userId': 10},\n",
       " {'completed': False,\n",
       "  'id': 186,\n",
       "  'title': 'explicabo odio est et',\n",
       "  'userId': 10},\n",
       " {'completed': False,\n",
       "  'id': 187,\n",
       "  'title': 'consequuntur animi possimus',\n",
       "  'userId': 10},\n",
       " {'completed': True, 'id': 188, 'title': 'vel non beatae est', 'userId': 10},\n",
       " {'completed': True,\n",
       "  'id': 189,\n",
       "  'title': 'culpa eius et voluptatem et',\n",
       "  'userId': 10},\n",
       " {'completed': True,\n",
       "  'id': 190,\n",
       "  'title': 'accusamus sint iusto et voluptatem exercitationem',\n",
       "  'userId': 10},\n",
       " {'completed': True,\n",
       "  'id': 191,\n",
       "  'title': 'temporibus atque distinctio omnis eius impedit tempore molestias pariatur',\n",
       "  'userId': 10},\n",
       " {'completed': False,\n",
       "  'id': 192,\n",
       "  'title': 'ut quas possimus exercitationem sint voluptates',\n",
       "  'userId': 10},\n",
       " {'completed': True,\n",
       "  'id': 193,\n",
       "  'title': 'rerum debitis voluptatem qui eveniet tempora distinctio a',\n",
       "  'userId': 10},\n",
       " {'completed': False,\n",
       "  'id': 194,\n",
       "  'title': 'sed ut vero sit molestiae',\n",
       "  'userId': 10},\n",
       " {'completed': True,\n",
       "  'id': 195,\n",
       "  'title': 'rerum ex veniam mollitia voluptatibus pariatur',\n",
       "  'userId': 10},\n",
       " {'completed': True,\n",
       "  'id': 196,\n",
       "  'title': 'consequuntur aut ut fugit similique',\n",
       "  'userId': 10},\n",
       " {'completed': True,\n",
       "  'id': 197,\n",
       "  'title': 'dignissimos quo nobis earum saepe',\n",
       "  'userId': 10},\n",
       " {'completed': True,\n",
       "  'id': 198,\n",
       "  'title': 'quis eius est sint explicabo',\n",
       "  'userId': 10},\n",
       " {'completed': True,\n",
       "  'id': 199,\n",
       "  'title': 'numquam repellendus a magnam',\n",
       "  'userId': 10},\n",
       " {'completed': False,\n",
       "  'id': 200,\n",
       "  'title': 'ipsam aperiam voluptates qui',\n",
       "  'userId': 10}]"
      ]
     },
     "execution_count": 60,
     "metadata": {},
     "output_type": "execute_result"
    }
   ],
   "source": [
    "response = requests.get(\"https://jsonplaceholder.typicode.com/todos\")\n",
    "todos = json.loads(response.text)\n",
    "todos"
   ]
  },
  {
   "cell_type": "code",
   "execution_count": 63,
   "metadata": {
    "ExecuteTime": {
     "end_time": "2018-12-31T16:48:47.653741Z",
     "start_time": "2018-12-31T16:48:47.643715Z"
    }
   },
   "outputs": [
    {
     "data": {
      "text/plain": [
       "True"
      ]
     },
     "execution_count": 63,
     "metadata": {},
     "output_type": "execute_result"
    }
   ],
   "source": [
    "todos == response.json()"
   ]
  },
  {
   "cell_type": "code",
   "execution_count": 65,
   "metadata": {
    "ExecuteTime": {
     "end_time": "2018-12-31T17:19:56.653656Z",
     "start_time": "2018-12-31T17:19:56.648643Z"
    }
   },
   "outputs": [],
   "source": [
    "z = 3 + 8j"
   ]
  },
  {
   "cell_type": "code",
   "execution_count": 66,
   "metadata": {
    "ExecuteTime": {
     "end_time": "2018-12-31T17:20:01.808807Z",
     "start_time": "2018-12-31T17:20:01.800307Z"
    }
   },
   "outputs": [
    {
     "data": {
      "text/plain": [
       "complex"
      ]
     },
     "execution_count": 66,
     "metadata": {},
     "output_type": "execute_result"
    }
   ],
   "source": [
    "type(z)"
   ]
  },
  {
   "cell_type": "code",
   "execution_count": null,
   "metadata": {},
   "outputs": [],
   "source": []
  }
 ],
 "metadata": {
  "kernelspec": {
   "display_name": "Python 3",
   "language": "python",
   "name": "python3"
  },
  "language_info": {
   "codemirror_mode": {
    "name": "ipython",
    "version": 3
   },
   "file_extension": ".py",
   "mimetype": "text/x-python",
   "name": "python",
   "nbconvert_exporter": "python",
   "pygments_lexer": "ipython3",
   "version": "3.6.4"
  }
 },
 "nbformat": 4,
 "nbformat_minor": 2
}
