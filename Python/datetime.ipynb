{
 "cells": [
  {
   "cell_type": "code",
   "execution_count": 193,
   "metadata": {
    "ExecuteTime": {
     "end_time": "2018-12-31T01:18:50.022985Z",
     "start_time": "2018-12-31T01:18:50.008944Z"
    }
   },
   "outputs": [],
   "source": [
    "from datetime import datetime, timedelta, time, date\n",
    "import pytz\n",
    "import numpy as np\n",
    "import pprint\n",
    "import pandas as pd \n",
    "from pandas.tseries.offsets import MonthEnd\n",
    "import os\n",
    "from pytz import timezone"
   ]
  },
  {
   "cell_type": "code",
   "execution_count": 194,
   "metadata": {
    "ExecuteTime": {
     "end_time": "2018-12-31T01:18:50.515801Z",
     "start_time": "2018-12-31T01:18:50.505795Z"
    }
   },
   "outputs": [
    {
     "data": {
      "text/plain": [
       "datetime.datetime(2018, 12, 31, 6, 48, 50, 507781)"
      ]
     },
     "execution_count": 194,
     "metadata": {},
     "output_type": "execute_result"
    }
   ],
   "source": [
    "datetime.today()"
   ]
  },
  {
   "cell_type": "code",
   "execution_count": 196,
   "metadata": {
    "ExecuteTime": {
     "end_time": "2018-12-31T01:18:56.694079Z",
     "start_time": "2018-12-31T01:18:56.685077Z"
    }
   },
   "outputs": [
    {
     "data": {
      "text/plain": [
       "datetime.datetime(2018, 12, 31, 6, 48, 56, 687566)"
      ]
     },
     "execution_count": 196,
     "metadata": {},
     "output_type": "execute_result"
    }
   ],
   "source": [
    "today = datetime.today()\n",
    "today"
   ]
  },
  {
   "cell_type": "code",
   "execution_count": 197,
   "metadata": {
    "ExecuteTime": {
     "end_time": "2018-12-31T01:18:57.902053Z",
     "start_time": "2018-12-31T01:18:57.893529Z"
    }
   },
   "outputs": [
    {
     "data": {
      "text/plain": [
       "datetime.datetime"
      ]
     },
     "execution_count": 197,
     "metadata": {},
     "output_type": "execute_result"
    }
   ],
   "source": [
    "type(today)"
   ]
  },
  {
   "cell_type": "code",
   "execution_count": 199,
   "metadata": {
    "ExecuteTime": {
     "end_time": "2018-12-31T01:19:02.654034Z",
     "start_time": "2018-12-31T01:19:02.645009Z"
    }
   },
   "outputs": [
    {
     "data": {
      "text/plain": [
       "datetime.date(2018, 12, 31)"
      ]
     },
     "execution_count": 199,
     "metadata": {},
     "output_type": "execute_result"
    }
   ],
   "source": [
    "todaydate = date.today()\n",
    "todaydate"
   ]
  },
  {
   "cell_type": "code",
   "execution_count": 202,
   "metadata": {
    "ExecuteTime": {
     "end_time": "2018-12-31T01:19:16.123840Z",
     "start_time": "2018-12-31T01:19:16.114314Z"
    }
   },
   "outputs": [
    {
     "data": {
      "text/plain": [
       "'00-12-2018'"
      ]
     },
     "execution_count": 202,
     "metadata": {},
     "output_type": "execute_result"
    }
   ],
   "source": [
    "date.today().strftime(\"%H-%m-%Y\")"
   ]
  },
  {
   "cell_type": "code",
   "execution_count": 203,
   "metadata": {
    "ExecuteTime": {
     "end_time": "2018-12-31T01:19:17.648559Z",
     "start_time": "2018-12-31T01:19:17.640036Z"
    }
   },
   "outputs": [
    {
     "data": {
      "text/plain": [
       "12"
      ]
     },
     "execution_count": 203,
     "metadata": {},
     "output_type": "execute_result"
    }
   ],
   "source": [
    "todaydate.month"
   ]
  },
  {
   "cell_type": "code",
   "execution_count": 205,
   "metadata": {
    "ExecuteTime": {
     "end_time": "2018-12-31T01:19:21.064745Z",
     "start_time": "2018-12-31T01:19:21.056192Z"
    }
   },
   "outputs": [
    {
     "data": {
      "text/plain": [
       "2018"
      ]
     },
     "execution_count": 205,
     "metadata": {},
     "output_type": "execute_result"
    }
   ],
   "source": [
    "todaydate.year"
   ]
  },
  {
   "cell_type": "code",
   "execution_count": 206,
   "metadata": {
    "ExecuteTime": {
     "end_time": "2018-12-31T01:19:21.996204Z",
     "start_time": "2018-12-31T01:19:21.988180Z"
    }
   },
   "outputs": [
    {
     "data": {
      "text/plain": [
       "31"
      ]
     },
     "execution_count": 206,
     "metadata": {},
     "output_type": "execute_result"
    }
   ],
   "source": [
    "todaydate.day"
   ]
  },
  {
   "cell_type": "code",
   "execution_count": 207,
   "metadata": {
    "ExecuteTime": {
     "end_time": "2018-12-31T01:19:23.716850Z",
     "start_time": "2018-12-31T01:19:23.706345Z"
    }
   },
   "outputs": [
    {
     "data": {
      "text/plain": [
       "datetime.date(2019, 12, 25)"
      ]
     },
     "execution_count": 207,
     "metadata": {},
     "output_type": "execute_result"
    }
   ],
   "source": [
    "christmas = date(2019, 12, 25)\n",
    "christmas"
   ]
  },
  {
   "cell_type": "code",
   "execution_count": 208,
   "metadata": {
    "ExecuteTime": {
     "end_time": "2018-12-31T01:19:25.321202Z",
     "start_time": "2018-12-31T01:19:25.310207Z"
    }
   },
   "outputs": [
    {
     "name": "stdout",
     "output_type": "stream",
     "text": [
      "Sorry there are still 359 until Christmas!\n"
     ]
    }
   ],
   "source": [
    "if christmas is not todaydate:\n",
    "    print(\"Sorry there are still \" + str((christmas - todaydate).days) + \" until Christmas!\")\n",
    "else:\n",
    "    print(\"Yay it's Christmas!\")"
   ]
  },
  {
   "cell_type": "code",
   "execution_count": 209,
   "metadata": {
    "ExecuteTime": {
     "end_time": "2018-12-31T01:19:26.755680Z",
     "start_time": "2018-12-31T01:19:26.749653Z"
    }
   },
   "outputs": [],
   "source": [
    "t = timedelta(days=4, hours=10)"
   ]
  },
  {
   "cell_type": "code",
   "execution_count": 210,
   "metadata": {
    "ExecuteTime": {
     "end_time": "2018-12-31T01:19:29.573053Z",
     "start_time": "2018-12-31T01:19:29.564529Z"
    }
   },
   "outputs": [
    {
     "data": {
      "text/plain": [
       "4"
      ]
     },
     "execution_count": 210,
     "metadata": {},
     "output_type": "execute_result"
    }
   ],
   "source": [
    "t.days"
   ]
  },
  {
   "cell_type": "code",
   "execution_count": 211,
   "metadata": {
    "ExecuteTime": {
     "end_time": "2018-12-31T01:19:30.724666Z",
     "start_time": "2018-12-31T01:19:30.716609Z"
    }
   },
   "outputs": [
    {
     "data": {
      "text/plain": [
       "36000"
      ]
     },
     "execution_count": 211,
     "metadata": {},
     "output_type": "execute_result"
    }
   ],
   "source": [
    "t.seconds"
   ]
  },
  {
   "cell_type": "code",
   "execution_count": 212,
   "metadata": {
    "ExecuteTime": {
     "end_time": "2018-12-31T01:19:31.358987Z",
     "start_time": "2018-12-31T01:19:31.350461Z"
    }
   },
   "outputs": [
    {
     "data": {
      "text/plain": [
       "10.0"
      ]
     },
     "execution_count": 212,
     "metadata": {},
     "output_type": "execute_result"
    }
   ],
   "source": [
    "t.seconds / 60 / 60"
   ]
  },
  {
   "cell_type": "code",
   "execution_count": 213,
   "metadata": {
    "ExecuteTime": {
     "end_time": "2018-12-31T01:19:31.797656Z",
     "start_time": "2018-12-31T01:19:31.789133Z"
    }
   },
   "outputs": [
    {
     "data": {
      "text/plain": [
       "10.0"
      ]
     },
     "execution_count": 213,
     "metadata": {},
     "output_type": "execute_result"
    }
   ],
   "source": [
    "t.seconds / 3600"
   ]
  },
  {
   "cell_type": "code",
   "execution_count": 215,
   "metadata": {
    "ExecuteTime": {
     "end_time": "2018-12-31T01:19:37.115744Z",
     "start_time": "2018-12-31T01:19:37.106190Z"
    }
   },
   "outputs": [
    {
     "data": {
      "text/plain": [
       "datetime.timedelta(0, 21600)"
      ]
     },
     "execution_count": 215,
     "metadata": {},
     "output_type": "execute_result"
    }
   ],
   "source": [
    "eta = timedelta(hours=6)\n",
    "eta"
   ]
  },
  {
   "cell_type": "code",
   "execution_count": 216,
   "metadata": {
    "ExecuteTime": {
     "end_time": "2018-12-31T01:19:43.396108Z",
     "start_time": "2018-12-31T01:19:43.386582Z"
    }
   },
   "outputs": [
    {
     "data": {
      "text/plain": [
       "datetime.datetime(2018, 12, 31, 6, 49, 43, 389089)"
      ]
     },
     "execution_count": 216,
     "metadata": {},
     "output_type": "execute_result"
    }
   ],
   "source": [
    "today = datetime.today()\n",
    "today"
   ]
  },
  {
   "cell_type": "code",
   "execution_count": 217,
   "metadata": {
    "ExecuteTime": {
     "end_time": "2018-12-31T01:19:45.766124Z",
     "start_time": "2018-12-31T01:19:45.757100Z"
    }
   },
   "outputs": [
    {
     "data": {
      "text/plain": [
       "datetime.datetime(2018, 12, 31, 12, 49, 43, 389089)"
      ]
     },
     "execution_count": 217,
     "metadata": {},
     "output_type": "execute_result"
    }
   ],
   "source": [
    "today + eta"
   ]
  },
  {
   "cell_type": "code",
   "execution_count": 218,
   "metadata": {
    "ExecuteTime": {
     "end_time": "2018-12-31T01:19:47.557464Z",
     "start_time": "2018-12-31T01:19:47.549442Z"
    }
   },
   "outputs": [
    {
     "data": {
      "text/plain": [
       "'2018-12-31 12:49:43.389089'"
      ]
     },
     "execution_count": 218,
     "metadata": {},
     "output_type": "execute_result"
    }
   ],
   "source": [
    "str(today + eta)"
   ]
  },
  {
   "cell_type": "code",
   "execution_count": 219,
   "metadata": {
    "ExecuteTime": {
     "end_time": "2018-12-31T01:19:51.785933Z",
     "start_time": "2018-12-31T01:19:51.777410Z"
    }
   },
   "outputs": [
    {
     "data": {
      "text/plain": [
       "'Africa/Abidjan'"
      ]
     },
     "execution_count": 219,
     "metadata": {},
     "output_type": "execute_result"
    }
   ],
   "source": [
    "pytz.all_timezones[0]"
   ]
  },
  {
   "cell_type": "code",
   "execution_count": 220,
   "metadata": {
    "ExecuteTime": {
     "end_time": "2018-12-31T01:19:52.784607Z",
     "start_time": "2018-12-31T01:19:52.777584Z"
    }
   },
   "outputs": [
    {
     "name": "stdout",
     "output_type": "stream",
     "text": [
      "['Asia/Calcutta']\n"
     ]
    }
   ],
   "source": [
    "print([s for s in pytz.all_timezones if 'Calcutta' in s])"
   ]
  },
  {
   "cell_type": "code",
   "execution_count": 221,
   "metadata": {
    "ExecuteTime": {
     "end_time": "2018-12-31T01:19:53.871628Z",
     "start_time": "2018-12-31T01:19:53.863606Z"
    }
   },
   "outputs": [
    {
     "data": {
      "text/plain": [
       "datetime.datetime(2018, 12, 31, 6, 49, 53, 865611)"
      ]
     },
     "execution_count": 221,
     "metadata": {},
     "output_type": "execute_result"
    }
   ],
   "source": [
    "datetime.now()"
   ]
  },
  {
   "cell_type": "code",
   "execution_count": 222,
   "metadata": {
    "ExecuteTime": {
     "end_time": "2018-12-31T01:19:58.344394Z",
     "start_time": "2018-12-31T01:19:58.335334Z"
    }
   },
   "outputs": [
    {
     "data": {
      "text/plain": [
       "datetime.timezone(datetime.timedelta(0, 19800), 'India Standard Time')"
      ]
     },
     "execution_count": 222,
     "metadata": {},
     "output_type": "execute_result"
    }
   ],
   "source": [
    "datetime.utcnow().astimezone().tzinfo"
   ]
  },
  {
   "cell_type": "code",
   "execution_count": 223,
   "metadata": {
    "ExecuteTime": {
     "end_time": "2018-12-31T01:20:02.826572Z",
     "start_time": "2018-12-31T01:20:02.817536Z"
    }
   },
   "outputs": [
    {
     "data": {
      "text/plain": [
       "19800.0"
      ]
     },
     "execution_count": 223,
     "metadata": {},
     "output_type": "execute_result"
    }
   ],
   "source": [
    "datetime.utcnow().astimezone().utcoffset().total_seconds()"
   ]
  },
  {
   "cell_type": "code",
   "execution_count": 225,
   "metadata": {
    "ExecuteTime": {
     "end_time": "2018-12-31T01:20:18.296856Z",
     "start_time": "2018-12-31T01:20:18.286316Z"
    }
   },
   "outputs": [
    {
     "data": {
      "text/plain": [
       "'2002-10-27 12:00:00 '"
      ]
     },
     "execution_count": 225,
     "metadata": {},
     "output_type": "execute_result"
    }
   ],
   "source": [
    "fmt = '%Y-%m-%d %H:%M:%S %Z%z'\n",
    "datetime(2002, 10, 27, 12, 0, 0, tzinfo=timezone('Asia/Calcutta')).replace(tzinfo=None).strftime(fmt)"
   ]
  },
  {
   "cell_type": "code",
   "execution_count": 226,
   "metadata": {
    "ExecuteTime": {
     "end_time": "2018-12-31T01:20:22.619058Z",
     "start_time": "2018-12-31T01:20:22.610536Z"
    }
   },
   "outputs": [
    {
     "data": {
      "text/plain": [
       "True"
      ]
     },
     "execution_count": 226,
     "metadata": {},
     "output_type": "execute_result"
    }
   ],
   "source": [
    "'Asia/Calcutta' in pytz.all_timezones"
   ]
  },
  {
   "cell_type": "code",
   "execution_count": 229,
   "metadata": {
    "ExecuteTime": {
     "end_time": "2018-12-31T01:20:33.085615Z",
     "start_time": "2018-12-31T01:20:33.076074Z"
    }
   },
   "outputs": [
    {
     "data": {
      "text/plain": [
       "<DstTzInfo 'Asia/Calcutta' HMT+5:53:00 STD>"
      ]
     },
     "execution_count": 229,
     "metadata": {},
     "output_type": "execute_result"
    }
   ],
   "source": [
    "timezone('Asia/Calcutta')"
   ]
  },
  {
   "cell_type": "code",
   "execution_count": 230,
   "metadata": {
    "ExecuteTime": {
     "end_time": "2018-12-31T01:20:34.117371Z",
     "start_time": "2018-12-31T01:20:34.105805Z"
    }
   },
   "outputs": [
    {
     "data": {
      "text/plain": [
       "['2018-12-31', '06:50:34:110317']"
      ]
     },
     "execution_count": 230,
     "metadata": {},
     "output_type": "execute_result"
    }
   ],
   "source": [
    "### Inidan time\n",
    "fmt = '%Y-%m-%d %H:%M:%S:%f %Z%z'\n",
    "(datetime.now(pytz.utc) +  timedelta(hours=5,minutes=30)).replace(tzinfo=None).strftime(fmt).split()"
   ]
  },
  {
   "cell_type": "code",
   "execution_count": 231,
   "metadata": {
    "ExecuteTime": {
     "end_time": "2018-12-31T01:20:41.588245Z",
     "start_time": "2018-12-31T01:20:41.579210Z"
    }
   },
   "outputs": [
    {
     "data": {
      "text/plain": [
       "['Africa/Accra']"
      ]
     },
     "execution_count": 231,
     "metadata": {},
     "output_type": "execute_result"
    }
   ],
   "source": [
    "pytz.common_timezones[1:2]"
   ]
  },
  {
   "cell_type": "code",
   "execution_count": 232,
   "metadata": {
    "ExecuteTime": {
     "end_time": "2018-12-31T01:20:50.934859Z",
     "start_time": "2018-12-31T01:20:44.538748Z"
    }
   },
   "outputs": [
    {
     "name": "stdout",
     "output_type": "stream",
     "text": [
      "7.59 µs ± 1.7 µs per loop (mean ± std. dev. of 7 runs, 100000 loops each)\n"
     ]
    }
   ],
   "source": [
    "%%timeit\n",
    "datetime.now(timezone('Asia/Calcutta'))"
   ]
  },
  {
   "cell_type": "code",
   "execution_count": 233,
   "metadata": {
    "ExecuteTime": {
     "end_time": "2018-12-31T01:20:54.557968Z",
     "start_time": "2018-12-31T01:20:51.957776Z"
    }
   },
   "outputs": [
    {
     "name": "stdout",
     "output_type": "stream",
     "text": [
      "3.09 µs ± 161 ns per loop (mean ± std. dev. of 7 runs, 100000 loops each)\n"
     ]
    }
   ],
   "source": [
    "%%timeit\n",
    "datetime.now() + timedelta(hours=-5,minutes=-30)"
   ]
  },
  {
   "cell_type": "code",
   "execution_count": 234,
   "metadata": {
    "ExecuteTime": {
     "end_time": "2018-12-31T01:20:56.667901Z",
     "start_time": "2018-12-31T01:20:56.659379Z"
    }
   },
   "outputs": [
    {
     "data": {
      "text/plain": [
       "0"
      ]
     },
     "execution_count": 234,
     "metadata": {},
     "output_type": "execute_result"
    }
   ],
   "source": [
    "datetime.now().weekday()"
   ]
  },
  {
   "cell_type": "code",
   "execution_count": 235,
   "metadata": {
    "ExecuteTime": {
     "end_time": "2018-12-31T01:20:57.900088Z",
     "start_time": "2018-12-31T01:20:57.888056Z"
    }
   },
   "outputs": [
    {
     "name": "stdout",
     "output_type": "stream",
     "text": [
      "False\n"
     ]
    }
   ],
   "source": [
    "if datetime.isoweekday(datetime.now()) in [2,3,4,5,6,7]:\n",
    "    print(True)\n",
    "else:\n",
    "    print(False)"
   ]
  },
  {
   "cell_type": "code",
   "execution_count": 236,
   "metadata": {
    "ExecuteTime": {
     "end_time": "2018-12-31T01:21:01.121754Z",
     "start_time": "2018-12-31T01:21:01.112731Z"
    }
   },
   "outputs": [
    {
     "data": {
      "text/plain": [
       "(2019, 1, 1)"
      ]
     },
     "execution_count": 236,
     "metadata": {},
     "output_type": "execute_result"
    }
   ],
   "source": [
    "datetime.now().isocalendar()"
   ]
  },
  {
   "cell_type": "code",
   "execution_count": 237,
   "metadata": {
    "ExecuteTime": {
     "end_time": "2018-12-31T01:21:02.663836Z",
     "start_time": "2018-12-31T01:21:02.654345Z"
    }
   },
   "outputs": [
    {
     "data": {
      "text/plain": [
       "'2018-12-31T06:51:02.656851'"
      ]
     },
     "execution_count": 237,
     "metadata": {},
     "output_type": "execute_result"
    }
   ],
   "source": [
    "datetime.now().isoformat()"
   ]
  },
  {
   "cell_type": "code",
   "execution_count": 238,
   "metadata": {
    "ExecuteTime": {
     "end_time": "2018-12-31T01:21:07.830682Z",
     "start_time": "2018-12-31T01:21:07.822155Z"
    }
   },
   "outputs": [
    {
     "data": {
      "text/plain": [
       "1"
      ]
     },
     "execution_count": 238,
     "metadata": {},
     "output_type": "execute_result"
    }
   ],
   "source": [
    "datetime.now().isoweekday()"
   ]
  },
  {
   "cell_type": "code",
   "execution_count": 239,
   "metadata": {
    "ExecuteTime": {
     "end_time": "2018-12-31T01:21:09.232482Z",
     "start_time": "2018-12-31T01:21:09.223994Z"
    }
   },
   "outputs": [
    {
     "data": {
      "text/plain": [
       "'2018-12-31 06:51:09.225968'"
      ]
     },
     "execution_count": 239,
     "metadata": {},
     "output_type": "execute_result"
    }
   ],
   "source": [
    "datetime.now().__str__()"
   ]
  },
  {
   "cell_type": "code",
   "execution_count": 240,
   "metadata": {
    "ExecuteTime": {
     "end_time": "2018-12-31T01:21:11.023347Z",
     "start_time": "2018-12-31T01:21:11.013817Z"
    }
   },
   "outputs": [
    {
     "data": {
      "text/plain": [
       "'2018-12-31'"
      ]
     },
     "execution_count": 240,
     "metadata": {},
     "output_type": "execute_result"
    }
   ],
   "source": [
    "datetime.utcnow().strftime('%Y-%m-%d')"
   ]
  },
  {
   "cell_type": "code",
   "execution_count": 241,
   "metadata": {
    "ExecuteTime": {
     "end_time": "2018-12-31T01:21:12.048298Z",
     "start_time": "2018-12-31T01:21:12.039774Z"
    }
   },
   "outputs": [
    {
     "data": {
      "text/plain": [
       "datetime.datetime(2017, 2, 1, 0, 0)"
      ]
     },
     "execution_count": 241,
     "metadata": {},
     "output_type": "execute_result"
    }
   ],
   "source": [
    "datetime.strptime('2017-02-01', '%Y-%m-%d')"
   ]
  },
  {
   "cell_type": "code",
   "execution_count": 242,
   "metadata": {
    "ExecuteTime": {
     "end_time": "2018-12-31T01:21:13.525696Z",
     "start_time": "2018-12-31T01:21:13.509151Z"
    }
   },
   "outputs": [
    {
     "data": {
      "text/plain": [
       "DatetimeIndex(['2018-01-31', '2018-02-28', '2018-03-31', '2018-04-30',\n",
       "               '2018-05-31', '2018-06-30', '2018-07-31', '2018-08-31',\n",
       "               '2018-09-30', '2018-10-31', '2018-11-30'],\n",
       "              dtype='datetime64[ns]', freq='M')"
      ]
     },
     "execution_count": 242,
     "metadata": {},
     "output_type": "execute_result"
    }
   ],
   "source": [
    "pd.date_range(start='1/1/2018', periods=11, freq='M')"
   ]
  },
  {
   "cell_type": "code",
   "execution_count": 243,
   "metadata": {
    "ExecuteTime": {
     "end_time": "2018-12-31T01:21:14.997644Z",
     "start_time": "2018-12-31T01:21:14.984103Z"
    }
   },
   "outputs": [
    {
     "data": {
      "text/plain": [
       "DatetimeIndex(['2018-01-01', '2018-02-01', '2018-03-01', '2018-04-01',\n",
       "               '2018-05-01', '2018-06-01', '2018-07-01', '2018-08-01',\n",
       "               '2018-09-01', '2018-10-01', '2018-11-01'],\n",
       "              dtype='datetime64[ns]', freq='MS')"
      ]
     },
     "execution_count": 243,
     "metadata": {},
     "output_type": "execute_result"
    }
   ],
   "source": [
    "pd.date_range(start='1/1/2018', periods=11, freq='MS')"
   ]
  },
  {
   "cell_type": "code",
   "execution_count": 244,
   "metadata": {
    "ExecuteTime": {
     "end_time": "2018-12-31T01:21:15.968676Z",
     "start_time": "2018-12-31T01:21:15.959618Z"
    }
   },
   "outputs": [
    {
     "data": {
      "text/plain": [
       "datetime.datetime(2019, 1, 30, 6, 51, 15, 962125)"
      ]
     },
     "execution_count": 244,
     "metadata": {},
     "output_type": "execute_result"
    }
   ],
   "source": [
    "datetime.now() + timedelta(days=30)"
   ]
  },
  {
   "cell_type": "code",
   "execution_count": 245,
   "metadata": {
    "ExecuteTime": {
     "end_time": "2018-12-31T01:21:17.937454Z",
     "start_time": "2018-12-31T01:21:17.927946Z"
    }
   },
   "outputs": [
    {
     "data": {
      "text/plain": [
       "364"
      ]
     },
     "execution_count": 245,
     "metadata": {},
     "output_type": "execute_result"
    }
   ],
   "source": [
    "delta = datetime.now() - datetime(2018, 1, 1)\n",
    "delta.days"
   ]
  },
  {
   "cell_type": "code",
   "execution_count": 246,
   "metadata": {
    "ExecuteTime": {
     "end_time": "2018-12-31T01:21:22.134713Z",
     "start_time": "2018-12-31T01:21:22.115659Z"
    }
   },
   "outputs": [
    {
     "name": "stdout",
     "output_type": "stream",
     "text": [
      "[12 12 12 12 12 12 12 12 12 12 12 12 12 12 12 12 12 12 12 12 12 12 12 12\n",
      " 12 12 12 12 12 12  4]\n"
     ]
    }
   ],
   "source": [
    "startdate = datetime(2018, 1, 1)\n",
    "delta = datetime.now() - datetime(2018, 1, 1)\n",
    "mynumber=delta.days\n",
    "nparts = 30\n",
    "x=np.full(nparts, 1)\n",
    "l= np.append((x * int(mynumber/nparts)), mynumber%nparts)\n",
    "print(l)\n"
   ]
  },
  {
   "cell_type": "code",
   "execution_count": 247,
   "metadata": {
    "ExecuteTime": {
     "end_time": "2018-12-31T01:21:24.017755Z",
     "start_time": "2018-12-31T01:21:23.993188Z"
    }
   },
   "outputs": [
    {
     "data": {
      "text/plain": [
       "[['2018-01-01', '2018-01-30', 29],\n",
       " ['2018-01-30', '2018-02-28', 29],\n",
       " ['2018-02-28', '2018-03-29', 29],\n",
       " ['2018-03-29', '2018-04-27', 29],\n",
       " ['2018-04-27', '2018-05-26', 29],\n",
       " ['2018-05-26', '2018-06-24', 29],\n",
       " ['2018-06-24', '2018-07-23', 29],\n",
       " ['2018-07-23', '2018-08-21', 29],\n",
       " ['2018-08-21', '2018-09-19', 29],\n",
       " ['2018-09-19', '2018-10-18', 29],\n",
       " ['2018-10-18', '2018-11-16', 29],\n",
       " ['2018-11-16', '2018-12-15', 29],\n",
       " ['2018-12-15', '2019-01-13', 29]]"
      ]
     },
     "execution_count": 247,
     "metadata": {},
     "output_type": "execute_result"
    }
   ],
   "source": [
    "startdate = datetime(2018, 1, 1)\n",
    "l = []\n",
    "while startdate <= datetime.utcnow():\n",
    "    l.append([startdate, startdate + timedelta(days=29)])\n",
    "    startdate = startdate + timedelta(days=29)\n",
    "l = [[i.strftime('%Y-%m-%d'), j.strftime('%Y-%m-%d'),(j-i).days] for i, j in l]\n",
    "l"
   ]
  },
  {
   "cell_type": "code",
   "execution_count": 248,
   "metadata": {
    "ExecuteTime": {
     "end_time": "2018-12-31T01:21:24.975315Z",
     "start_time": "2018-12-31T01:21:24.949746Z"
    }
   },
   "outputs": [
    {
     "data": {
      "text/plain": [
       "[['2017-01-01', '2017-01-31'],\n",
       " ['2017-02-01', '2017-02-28'],\n",
       " ['2017-03-01', '2017-03-31'],\n",
       " ['2017-04-01', '2017-04-30'],\n",
       " ['2017-05-01', '2017-05-31'],\n",
       " ['2017-06-01', '2017-06-30'],\n",
       " ['2017-07-01', '2017-07-31'],\n",
       " ['2017-08-01', '2017-08-31'],\n",
       " ['2017-09-01', '2017-09-30'],\n",
       " ['2017-10-01', '2017-10-31'],\n",
       " ['2017-11-01', '2017-11-30'],\n",
       " ['2017-12-01', '2017-12-31'],\n",
       " ['2018-01-01', '2018-01-31'],\n",
       " ['2018-02-01', '2018-02-28'],\n",
       " ['2018-03-01', '2018-03-31'],\n",
       " ['2018-04-01', '2018-04-30'],\n",
       " ['2018-05-01', '2018-05-31'],\n",
       " ['2018-06-01', '2018-06-30'],\n",
       " ['2018-07-01', '2018-07-31'],\n",
       " ['2018-08-01', '2018-08-31'],\n",
       " ['2018-09-01', '2018-09-30'],\n",
       " ['2018-10-01', '2018-10-31'],\n",
       " ['2018-11-01', '2018-11-30'],\n",
       " ['2018-12-01', '2018-12-31']]"
      ]
     },
     "execution_count": 248,
     "metadata": {},
     "output_type": "execute_result"
    }
   ],
   "source": [
    "periods = 24\n",
    "l2 = [[i.strftime('%Y-%m-01'), pd.to_datetime((i) + MonthEnd(1)).strftime('%Y-%m-%d')]\n",
    "      for i in pd.date_range(end=datetime.utcnow().strftime('%Y-%m-%d'), periods=periods, freq='MS').tolist()]\n",
    "l2"
   ]
  },
  {
   "cell_type": "code",
   "execution_count": 249,
   "metadata": {
    "ExecuteTime": {
     "end_time": "2018-12-31T01:21:32.632465Z",
     "start_time": "2018-12-31T01:21:32.623959Z"
    }
   },
   "outputs": [
    {
     "data": {
      "text/plain": [
       "'spacious'"
      ]
     },
     "execution_count": 249,
     "metadata": {},
     "output_type": "execute_result"
    }
   ],
   "source": [
    "'   spacious   '.lstrip().rstrip()"
   ]
  },
  {
   "cell_type": "code",
   "execution_count": 252,
   "metadata": {
    "ExecuteTime": {
     "end_time": "2018-12-31T01:21:45.522101Z",
     "start_time": "2018-12-31T01:21:45.513077Z"
    }
   },
   "outputs": [
    {
     "data": {
      "text/plain": [
       "6"
      ]
     },
     "execution_count": 252,
     "metadata": {},
     "output_type": "execute_result"
    }
   ],
   "source": [
    "' Amol Amit '.rfind('A')"
   ]
  },
  {
   "cell_type": "code",
   "execution_count": 253,
   "metadata": {
    "ExecuteTime": {
     "end_time": "2018-12-31T01:21:48.809109Z",
     "start_time": "2018-12-31T01:21:48.800611Z"
    }
   },
   "outputs": [
    {
     "data": {
      "text/plain": [
       "['1', '2', '3']"
      ]
     },
     "execution_count": 253,
     "metadata": {},
     "output_type": "execute_result"
    }
   ],
   "source": [
    "'1,2,3'.split(',')"
   ]
  },
  {
   "cell_type": "code",
   "execution_count": 254,
   "metadata": {
    "ExecuteTime": {
     "end_time": "2018-12-31T01:21:49.547614Z",
     "start_time": "2018-12-31T01:21:49.539057Z"
    }
   },
   "outputs": [
    {
     "data": {
      "text/plain": [
       "['1', '2,3']"
      ]
     },
     "execution_count": 254,
     "metadata": {},
     "output_type": "execute_result"
    }
   ],
   "source": [
    "'1,2,3'.split(',', maxsplit=1)"
   ]
  },
  {
   "cell_type": "code",
   "execution_count": 255,
   "metadata": {
    "ExecuteTime": {
     "end_time": "2018-12-31T01:21:50.498336Z",
     "start_time": "2018-12-31T01:21:50.488811Z"
    }
   },
   "outputs": [
    {
     "data": {
      "text/plain": [
       "['ab c', '', 'de fg', 'kl']"
      ]
     },
     "execution_count": 255,
     "metadata": {},
     "output_type": "execute_result"
    }
   ],
   "source": [
    "'ab c\\n\\nde fg\\rkl\\r\\n'.splitlines()"
   ]
  },
  {
   "cell_type": "code",
   "execution_count": 258,
   "metadata": {
    "ExecuteTime": {
     "end_time": "2018-12-31T01:22:01.146192Z",
     "start_time": "2018-12-31T01:22:01.139136Z"
    }
   },
   "outputs": [
    {
     "data": {
      "text/plain": [
       "'spacious   '"
      ]
     },
     "execution_count": 258,
     "metadata": {},
     "output_type": "execute_result"
    }
   ],
   "source": [
    "'   spacious   '.lstrip()"
   ]
  },
  {
   "cell_type": "code",
   "execution_count": 259,
   "metadata": {
    "ExecuteTime": {
     "end_time": "2018-12-31T01:22:09.735985Z",
     "start_time": "2018-12-31T01:22:09.727462Z"
    }
   },
   "outputs": [
    {
     "data": {
      "text/plain": [
       "'   spacious'"
      ]
     },
     "execution_count": 259,
     "metadata": {},
     "output_type": "execute_result"
    }
   ],
   "source": [
    "'   spacious   '.rstrip()"
   ]
  },
  {
   "cell_type": "code",
   "execution_count": 260,
   "metadata": {
    "ExecuteTime": {
     "end_time": "2018-12-31T01:22:13.255485Z",
     "start_time": "2018-12-31T01:22:13.245960Z"
    }
   },
   "outputs": [
    {
     "data": {
      "text/plain": [
       "'spacious'"
      ]
     },
     "execution_count": 260,
     "metadata": {},
     "output_type": "execute_result"
    }
   ],
   "source": [
    "'   spacious   '.strip()"
   ]
  },
  {
   "cell_type": "code",
   "execution_count": 261,
   "metadata": {
    "ExecuteTime": {
     "end_time": "2018-12-31T01:22:14.081729Z",
     "start_time": "2018-12-31T01:22:14.073206Z"
    }
   },
   "outputs": [
    {
     "data": {
      "text/plain": [
       "'Girish Sancheti'"
      ]
     },
     "execution_count": 261,
     "metadata": {},
     "output_type": "execute_result"
    }
   ],
   "source": [
    "'first l'.title()"
   ]
  },
  {
   "cell_type": "code",
   "execution_count": 122,
   "metadata": {
    "ExecuteTime": {
     "end_time": "2018-12-31T00:37:15.941686Z",
     "start_time": "2018-12-31T00:37:15.932663Z"
    }
   },
   "outputs": [
    {
     "data": {
      "text/plain": [
       "'00045'"
      ]
     },
     "execution_count": 122,
     "metadata": {},
     "output_type": "execute_result"
    }
   ],
   "source": [
    "'45'.zfill(5)"
   ]
  },
  {
   "cell_type": "code",
   "execution_count": 124,
   "metadata": {
    "ExecuteTime": {
     "end_time": "2018-12-31T00:38:01.710845Z",
     "start_time": "2018-12-31T00:38:01.700842Z"
    }
   },
   "outputs": [
    {
     "data": {
      "text/plain": [
       "'fbc'"
      ]
     },
     "execution_count": 124,
     "metadata": {},
     "output_type": "execute_result"
    }
   ],
   "source": [
    "a = \"abc\"\n",
    "b = a.replace(\"a\", \"f\")\n",
    "b"
   ]
  },
  {
   "cell_type": "code",
   "execution_count": 125,
   "metadata": {
    "ExecuteTime": {
     "end_time": "2018-12-31T00:38:53.750330Z",
     "start_time": "2018-12-31T00:38:53.742336Z"
    }
   },
   "outputs": [
    {
     "data": {
      "text/plain": [
       "True"
      ]
     },
     "execution_count": 125,
     "metadata": {},
     "output_type": "execute_result"
    }
   ],
   "source": [
    "'ABCabc'.isalpha()"
   ]
  },
  {
   "cell_type": "code",
   "execution_count": 126,
   "metadata": {
    "ExecuteTime": {
     "end_time": "2018-12-31T00:39:00.411672Z",
     "start_time": "2018-12-31T00:39:00.402648Z"
    }
   },
   "outputs": [
    {
     "data": {
      "text/plain": [
       "False"
      ]
     },
     "execution_count": 126,
     "metadata": {},
     "output_type": "execute_result"
    }
   ],
   "source": [
    "'ABCabc1'.isalpha()"
   ]
  },
  {
   "cell_type": "code",
   "execution_count": 127,
   "metadata": {
    "ExecuteTime": {
     "end_time": "2018-12-31T00:39:20.780761Z",
     "start_time": "2018-12-31T00:39:20.772767Z"
    }
   },
   "outputs": [
    {
     "data": {
      "text/plain": [
       "False"
      ]
     },
     "execution_count": 127,
     "metadata": {},
     "output_type": "execute_result"
    }
   ],
   "source": [
    "'1.23'.isdigit()"
   ]
  },
  {
   "cell_type": "code",
   "execution_count": 129,
   "metadata": {
    "ExecuteTime": {
     "end_time": "2018-12-31T00:39:55.924421Z",
     "start_time": "2018-12-31T00:39:55.916428Z"
    }
   },
   "outputs": [
    {
     "data": {
      "text/plain": [
       "False"
      ]
     },
     "execution_count": 129,
     "metadata": {},
     "output_type": "execute_result"
    }
   ],
   "source": [
    "'1.23'.isdecimal()"
   ]
  },
  {
   "cell_type": "code",
   "execution_count": null,
   "metadata": {},
   "outputs": [],
   "source": []
  }
 ],
 "metadata": {
  "kernelspec": {
   "display_name": "Python 3",
   "language": "python",
   "name": "python3"
  },
  "language_info": {
   "codemirror_mode": {
    "name": "ipython",
    "version": 3
   },
   "file_extension": ".py",
   "mimetype": "text/x-python",
   "name": "python",
   "nbconvert_exporter": "python",
   "pygments_lexer": "ipython3",
   "version": "3.6.4"
  }
 },
 "nbformat": 4,
 "nbformat_minor": 2
}
