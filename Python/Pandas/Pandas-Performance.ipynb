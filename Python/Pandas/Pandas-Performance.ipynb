{
 "cells": [
  {
   "cell_type": "code",
   "execution_count": 27,
   "metadata": {
    "ExecuteTime": {
     "end_time": "2018-12-15T16:07:33.869564Z",
     "start_time": "2018-12-15T16:07:33.862546Z"
    }
   },
   "outputs": [],
   "source": [
    "import numpy as np\n",
    "import helperpgm as h\n",
    "import pandas as pd \n",
    "m = h.helperclass()"
   ]
  },
  {
   "cell_type": "code",
   "execution_count": 28,
   "metadata": {
    "ExecuteTime": {
     "end_time": "2018-12-15T16:07:35.635922Z",
     "start_time": "2018-12-15T16:07:34.121225Z"
    }
   },
   "outputs": [],
   "source": [
    "df = m.Get_Historical_data(779521,\"2018-12-12\",\"2018-12-13\",\"minute\")"
   ]
  },
  {
   "cell_type": "code",
   "execution_count": 29,
   "metadata": {
    "ExecuteTime": {
     "end_time": "2018-12-15T16:07:44.744961Z",
     "start_time": "2018-12-15T16:07:35.635922Z"
    }
   },
   "outputs": [
    {
     "name": "stdout",
     "output_type": "stream",
     "text": [
      "108 ms ± 1.09 ms per loop (mean ± std. dev. of 7 runs, 10 loops each)\n"
     ]
    }
   ],
   "source": [
    "%%timeit\n",
    "df['diff-iter'] = 0.0\n",
    "for row, col in df.iterrows():\n",
    "    df.at[row, 'diff-iter'] = df.at[row, 'Close'] - df.at[row, 'Open'] "
   ]
  },
  {
   "cell_type": "code",
   "execution_count": 30,
   "metadata": {
    "ExecuteTime": {
     "end_time": "2018-12-15T16:07:47.405726Z",
     "start_time": "2018-12-15T16:07:44.746965Z"
    }
   },
   "outputs": [
    {
     "name": "stdout",
     "output_type": "stream",
     "text": [
      "31.5 ms ± 98.7 µs per loop (mean ± std. dev. of 7 runs, 10 loops each)\n"
     ]
    }
   ],
   "source": [
    "%%timeit \n",
    "df['diff-apply'] = df.apply(lambda row: row['Close'] - row['Open'], axis=1)"
   ]
  },
  {
   "cell_type": "code",
   "execution_count": 31,
   "metadata": {
    "ExecuteTime": {
     "end_time": "2018-12-15T16:07:51.673306Z",
     "start_time": "2018-12-15T16:07:47.409737Z"
    }
   },
   "outputs": [
    {
     "name": "stdout",
     "output_type": "stream",
     "text": [
      "509 µs ± 2.56 µs per loop (mean ± std. dev. of 7 runs, 1000 loops each)\n"
     ]
    }
   ],
   "source": [
    "%%timeit \n",
    "df['diff-vector'] = df.Close-df.Open"
   ]
  },
  {
   "cell_type": "code",
   "execution_count": 32,
   "metadata": {
    "ExecuteTime": {
     "end_time": "2018-12-15T16:07:54.243759Z",
     "start_time": "2018-12-15T16:07:51.675310Z"
    }
   },
   "outputs": [
    {
     "name": "stdout",
     "output_type": "stream",
     "text": [
      "299 µs ± 3.67 µs per loop (mean ± std. dev. of 7 runs, 1000 loops each)\n"
     ]
    }
   ],
   "source": [
    "%%timeit \n",
    "df['diff-numpy-vector'] = df.Close.values-df.Open.values"
   ]
  },
  {
   "cell_type": "code",
   "execution_count": 33,
   "metadata": {
    "ExecuteTime": {
     "end_time": "2018-12-15T16:07:54.276880Z",
     "start_time": "2018-12-15T16:07:54.245763Z"
    }
   },
   "outputs": [
    {
     "data": {
      "text/html": [
       "<div>\n",
       "<style scoped>\n",
       "    .dataframe tbody tr th:only-of-type {\n",
       "        vertical-align: middle;\n",
       "    }\n",
       "\n",
       "    .dataframe tbody tr th {\n",
       "        vertical-align: top;\n",
       "    }\n",
       "\n",
       "    .dataframe thead th {\n",
       "        text-align: right;\n",
       "    }\n",
       "</style>\n",
       "<table border=\"1\" class=\"dataframe\">\n",
       "  <thead>\n",
       "    <tr style=\"text-align: right;\">\n",
       "      <th></th>\n",
       "      <th>Open</th>\n",
       "      <th>High</th>\n",
       "      <th>Low</th>\n",
       "      <th>Close</th>\n",
       "      <th>Date</th>\n",
       "      <th>Volume</th>\n",
       "      <th>diff-iter</th>\n",
       "      <th>diff-apply</th>\n",
       "      <th>diff-vector</th>\n",
       "      <th>diff-numpy-vector</th>\n",
       "    </tr>\n",
       "  </thead>\n",
       "  <tbody>\n",
       "    <tr>\n",
       "      <th>0</th>\n",
       "      <td>283.50</td>\n",
       "      <td>283.50</td>\n",
       "      <td>282.40</td>\n",
       "      <td>282.85</td>\n",
       "      <td>2018-12-12 09:15:00</td>\n",
       "      <td>474281</td>\n",
       "      <td>-0.65</td>\n",
       "      <td>-0.65</td>\n",
       "      <td>-0.65</td>\n",
       "      <td>-0.65</td>\n",
       "    </tr>\n",
       "    <tr>\n",
       "      <th>1</th>\n",
       "      <td>282.95</td>\n",
       "      <td>283.35</td>\n",
       "      <td>282.80</td>\n",
       "      <td>283.05</td>\n",
       "      <td>2018-12-12 09:16:00</td>\n",
       "      <td>277024</td>\n",
       "      <td>0.10</td>\n",
       "      <td>0.10</td>\n",
       "      <td>0.10</td>\n",
       "      <td>0.10</td>\n",
       "    </tr>\n",
       "    <tr>\n",
       "      <th>2</th>\n",
       "      <td>283.15</td>\n",
       "      <td>283.80</td>\n",
       "      <td>283.05</td>\n",
       "      <td>283.75</td>\n",
       "      <td>2018-12-12 09:17:00</td>\n",
       "      <td>203055</td>\n",
       "      <td>0.60</td>\n",
       "      <td>0.60</td>\n",
       "      <td>0.60</td>\n",
       "      <td>0.60</td>\n",
       "    </tr>\n",
       "    <tr>\n",
       "      <th>3</th>\n",
       "      <td>283.75</td>\n",
       "      <td>284.15</td>\n",
       "      <td>283.35</td>\n",
       "      <td>284.00</td>\n",
       "      <td>2018-12-12 09:18:00</td>\n",
       "      <td>177140</td>\n",
       "      <td>0.25</td>\n",
       "      <td>0.25</td>\n",
       "      <td>0.25</td>\n",
       "      <td>0.25</td>\n",
       "    </tr>\n",
       "    <tr>\n",
       "      <th>4</th>\n",
       "      <td>283.95</td>\n",
       "      <td>283.95</td>\n",
       "      <td>283.40</td>\n",
       "      <td>283.50</td>\n",
       "      <td>2018-12-12 09:19:00</td>\n",
       "      <td>97969</td>\n",
       "      <td>-0.45</td>\n",
       "      <td>-0.45</td>\n",
       "      <td>-0.45</td>\n",
       "      <td>-0.45</td>\n",
       "    </tr>\n",
       "  </tbody>\n",
       "</table>\n",
       "</div>"
      ],
      "text/plain": [
       "     Open    High     Low   Close                Date  Volume  diff-iter  \\\n",
       "0  283.50  283.50  282.40  282.85 2018-12-12 09:15:00  474281      -0.65   \n",
       "1  282.95  283.35  282.80  283.05 2018-12-12 09:16:00  277024       0.10   \n",
       "2  283.15  283.80  283.05  283.75 2018-12-12 09:17:00  203055       0.60   \n",
       "3  283.75  284.15  283.35  284.00 2018-12-12 09:18:00  177140       0.25   \n",
       "4  283.95  283.95  283.40  283.50 2018-12-12 09:19:00   97969      -0.45   \n",
       "\n",
       "   diff-apply  diff-vector  diff-numpy-vector  \n",
       "0       -0.65        -0.65              -0.65  \n",
       "1        0.10         0.10               0.10  \n",
       "2        0.60         0.60               0.60  \n",
       "3        0.25         0.25               0.25  \n",
       "4       -0.45        -0.45              -0.45  "
      ]
     },
     "execution_count": 33,
     "metadata": {},
     "output_type": "execute_result"
    }
   ],
   "source": [
    "df.head()"
   ]
  },
  {
   "cell_type": "code",
   "execution_count": null,
   "metadata": {},
   "outputs": [],
   "source": []
  }
 ],
 "metadata": {
  "kernelspec": {
   "display_name": "Python 3",
   "language": "python",
   "name": "python3"
  },
  "language_info": {
   "codemirror_mode": {
    "name": "ipython",
    "version": 3
   },
   "file_extension": ".py",
   "mimetype": "text/x-python",
   "name": "python",
   "nbconvert_exporter": "python",
   "pygments_lexer": "ipython3",
   "version": "3.6.4"
  }
 },
 "nbformat": 4,
 "nbformat_minor": 2
}
