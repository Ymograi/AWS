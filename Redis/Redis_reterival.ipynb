{
 "cells": [
  {
   "cell_type": "code",
   "execution_count": null,
   "metadata": {},
   "outputs": [],
   "source": [
    "import pandas as pd\n",
    "import numpy as np\n",
    "import selenium3 as s\n",
    "from pandas import Timestamp\n",
    "import json\n",
    "import redis\n",
    "import time\n",
    "import datetime\n",
    "import ast\n",
    "r = s.redis_conn(1)\n",
    "r15 = s.redis_conn(15)"
   ]
  },
  {
   "cell_type": "markdown",
   "metadata": {},
   "source": [
    "<br>"
   ]
  },
  {
   "cell_type": "markdown",
   "metadata": {},
   "source": [
    "##### Method 1"
   ]
  },
  {
   "cell_type": "code",
   "execution_count": null,
   "metadata": {},
   "outputs": [],
   "source": [
    "%%time\n",
    "data1 = r.lrange('Ticks-FULL',0,0)\n",
    "df = pd.DataFrame(eval(data1[0]))"
   ]
  },
  {
   "cell_type": "code",
   "execution_count": null,
   "metadata": {},
   "outputs": [],
   "source": [
    "df"
   ]
  },
  {
   "cell_type": "markdown",
   "metadata": {},
   "source": [
    "<br>"
   ]
  },
  {
   "cell_type": "markdown",
   "metadata": {},
   "source": [
    "<br>"
   ]
  },
  {
   "cell_type": "markdown",
   "metadata": {},
   "source": [
    "##### Method 2 - Make it in Dict"
   ]
  },
  {
   "cell_type": "code",
   "execution_count": null,
   "metadata": {},
   "outputs": [],
   "source": [
    "%%time\n",
    "data2 = r.lrange('Ticks-FULL',0,0)\n",
    "string = data2[0]\n",
    "d = eval(string.strip('[]'))\n",
    "print(type(d))"
   ]
  },
  {
   "cell_type": "code",
   "execution_count": null,
   "metadata": {},
   "outputs": [],
   "source": [
    "d"
   ]
  },
  {
   "cell_type": "markdown",
   "metadata": {},
   "source": [
    "<br>"
   ]
  },
  {
   "cell_type": "markdown",
   "metadata": {},
   "source": [
    "<br>"
   ]
  },
  {
   "cell_type": "markdown",
   "metadata": {},
   "source": [
    "##### Method 3  Make into Dict to df"
   ]
  },
  {
   "cell_type": "code",
   "execution_count": null,
   "metadata": {},
   "outputs": [],
   "source": [
    "%%time\n",
    "data3 = r.lrange('Ticks-FULL',0,0)\n",
    "df3 = pd.DataFrame.from_dict(eval(data3[0].strip('[]')),\"index\")\n",
    "df3 = df3.transpose()"
   ]
  },
  {
   "cell_type": "code",
   "execution_count": null,
   "metadata": {},
   "outputs": [],
   "source": [
    "df3"
   ]
  },
  {
   "cell_type": "markdown",
   "metadata": {},
   "source": [
    "<br>"
   ]
  },
  {
   "cell_type": "markdown",
   "metadata": {},
   "source": [
    "<br>"
   ]
  },
  {
   "cell_type": "markdown",
   "metadata": {},
   "source": [
    "##### Method 4"
   ]
  },
  {
   "cell_type": "code",
   "execution_count": null,
   "metadata": {},
   "outputs": [],
   "source": [
    "%%time\n",
    "data4 = r.lrange('Ticks-FULL',0,0)\n",
    "df4 = pd.DataFrame(eval(data4[0]))\n",
    "df4.to_json()"
   ]
  },
  {
   "cell_type": "code",
   "execution_count": null,
   "metadata": {},
   "outputs": [],
   "source": [
    "df4"
   ]
  },
  {
   "cell_type": "markdown",
   "metadata": {},
   "source": [
    "<br>"
   ]
  },
  {
   "cell_type": "markdown",
   "metadata": {},
   "source": [
    "##### Method 5 "
   ]
  },
  {
   "cell_type": "code",
   "execution_count": null,
   "metadata": {},
   "outputs": [],
   "source": [
    "%%time\n",
    "data5= r.lrange('Ticks-FULL',0,-1)\n",
    "dict5_1 = eval(data5[0])\n",
    "dict5_1_0 = dict5_1[0]\n",
    "df5 = pd.DataFrame.from_dict([dict5_1_0],orient='columns')"
   ]
  },
  {
   "cell_type": "code",
   "execution_count": null,
   "metadata": {},
   "outputs": [],
   "source": [
    "df5"
   ]
  },
  {
   "cell_type": "markdown",
   "metadata": {},
   "source": [
    "<br>"
   ]
  },
  {
   "cell_type": "markdown",
   "metadata": {},
   "source": [
    "##### Method 6 Process ticks in FULL mode"
   ]
  },
  {
   "cell_type": "code",
   "execution_count": null,
   "metadata": {},
   "outputs": [],
   "source": [
    "%%time\n",
    "my_dict = {}\n",
    "\n",
    "data5= r.lrange('Ticks-FULL',0,-1)\n",
    "for i in range(r.llen('Ticks-FULL')):\n",
    "    dict5_1 = eval(data5[i])\n",
    "    dict5_1_0 = dict5_1[0]\n",
    "    my_dict[i] = dict5_1_0\n",
    "df5 = pd.DataFrame.from_dict(my_dict,'index')"
   ]
  },
  {
   "cell_type": "code",
   "execution_count": null,
   "metadata": {},
   "outputs": [],
   "source": [
    "df5[['instrument_token', 'change','last_price','last_trade_time','timestamp','volume']]"
   ]
  },
  {
   "cell_type": "markdown",
   "metadata": {},
   "source": [
    "<br>"
   ]
  },
  {
   "cell_type": "markdown",
   "metadata": {},
   "source": [
    "##### Method 7 Process Historical Data from Redis"
   ]
  },
  {
   "cell_type": "code",
   "execution_count": null,
   "metadata": {},
   "outputs": [],
   "source": [
    "%%time\n",
    "data7= r15.lrange('SBIN18MAYFUT',0,-1)\n",
    "str7={}\n",
    "my_dict7={}\n",
    "for i in range(r15.llen('SBIN18MAYFUT')):    \n",
    "    str7 = eval(data7[i])    \n",
    "    str7['Stock'] = 'SBIN18MAYFUT'\n",
    "\n",
    "    my_dict7[i] = str7\n",
    "df7 = pd.DataFrame.from_dict(my_dict7,'index')   \n",
    "df7['Millions'] = round(df7.volume/1000000,2)"
   ]
  },
  {
   "cell_type": "code",
   "execution_count": null,
   "metadata": {},
   "outputs": [],
   "source": [
    "df7"
   ]
  },
  {
   "cell_type": "code",
   "execution_count": null,
   "metadata": {},
   "outputs": [],
   "source": [
    "stocklist = r15.keys()"
   ]
  },
  {
   "cell_type": "code",
   "execution_count": null,
   "metadata": {},
   "outputs": [],
   "source": [
    "%%time\n",
    "j=0\n",
    "stock_string = {}\n",
    "stock_dict ={}    \n",
    "\n",
    "for stock_name in stocklist:\n",
    "    stock_data = r15.lrange(stock_name,0,-1)  \n",
    "    for i in range(r15.llen(stock_name)):\n",
    "        stock_string = eval(stock_data[i])\n",
    "        stock_string['stock'] = stock_name\n",
    "        stock_dict[j] = stock_string\n",
    "        j+=1\n",
    "    #break\n",
    "df = pd.DataFrame.from_dict(stock_dict,'index')         "
   ]
  },
  {
   "cell_type": "markdown",
   "metadata": {},
   "source": [
    "##### Get the Max volume of all the stocks"
   ]
  },
  {
   "cell_type": "code",
   "execution_count": 117,
   "metadata": {},
   "outputs": [
    {
     "data": {
      "text/plain": [
       "date       2018-05-23 09:17:00\n",
       "open                       264\n",
       "high                     266.2\n",
       "low                        264\n",
       "close                   265.65\n",
       "volume                 7923000\n",
       "Candle                   Green\n",
       "TVolume               21813000\n",
       "stock             SBIN18MAYFUT\n",
       "Name: 42741, dtype: object"
      ]
     },
     "execution_count": 117,
     "metadata": {},
     "output_type": "execute_result"
    }
   ],
   "source": [
    "df.loc[df['volume'].idxmax()]"
   ]
  },
  {
   "cell_type": "markdown",
   "metadata": {},
   "source": [
    "##### Get the Min volume of all the stocks"
   ]
  },
  {
   "cell_type": "code",
   "execution_count": 112,
   "metadata": {},
   "outputs": [
    {
     "data": {
      "text/plain": [
       "date       2018-05-23 12:34:00\n",
       "open                      3508\n",
       "high                      3508\n",
       "low                       3508\n",
       "close                     3508\n",
       "volume                       0\n",
       "Candle                   Green\n",
       "TVolume                 715250\n",
       "stock              TCS18MAYFUT\n",
       "Name: 199, dtype: object"
      ]
     },
     "execution_count": 112,
     "metadata": {},
     "output_type": "execute_result"
    }
   ],
   "source": [
    "df.loc[df['volume'].idxmin()]"
   ]
  },
  {
   "cell_type": "code",
   "execution_count": null,
   "metadata": {},
   "outputs": [],
   "source": []
  },
  {
   "cell_type": "code",
   "execution_count": null,
   "metadata": {},
   "outputs": [],
   "source": []
  },
  {
   "cell_type": "code",
   "execution_count": null,
   "metadata": {},
   "outputs": [],
   "source": []
  },
  {
   "cell_type": "markdown",
   "metadata": {},
   "source": [
    "<br>"
   ]
  }
 ],
 "metadata": {
  "kernelspec": {
   "display_name": "Python 3",
   "language": "python",
   "name": "python3"
  },
  "language_info": {
   "codemirror_mode": {
    "name": "ipython",
    "version": 3
   },
   "file_extension": ".py",
   "mimetype": "text/x-python",
   "name": "python",
   "nbconvert_exporter": "python",
   "pygments_lexer": "ipython3",
   "version": "3.6.4"
  }
 },
 "nbformat": 4,
 "nbformat_minor": 2
}
